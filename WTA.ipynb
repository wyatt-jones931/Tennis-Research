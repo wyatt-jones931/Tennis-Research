{
  "nbformat": 4,
  "nbformat_minor": 0,
  "metadata": {
    "colab": {
      "provenance": [],
      "mount_file_id": "1wwLUUDDctR9yGzrS301DPW1-xi2pXZLw",
      "authorship_tag": "ABX9TyPuOSxkq3r4x15+0dHSZ8qX",
      "include_colab_link": true
    },
    "kernelspec": {
      "name": "python3",
      "display_name": "Python 3"
    },
    "language_info": {
      "name": "python"
    }
  },
  "cells": [
    {
      "cell_type": "markdown",
      "metadata": {
        "id": "view-in-github",
        "colab_type": "text"
      },
      "source": [
        "<a href=\"https://colab.research.google.com/github/wyatt-jones931/Tennis-Research/blob/main/WTA.ipynb\" target=\"_parent\"><img src=\"https://colab.research.google.com/assets/colab-badge.svg\" alt=\"Open In Colab\"/></a>"
      ]
    },
    {
      "cell_type": "code",
      "execution_count": 1,
      "metadata": {
        "id": "nrqmNoHVHcxp"
      },
      "outputs": [],
      "source": [
        "import numpy as np\n",
        "import pandas as pd\n",
        "import seaborn as sb\n",
        "import matplotlib.pyplot as plt"
      ]
    },
    {
      "cell_type": "code",
      "source": [
        "wta_2022 = pd.read_csv('/content/drive/MyDrive/Datasets/SURFS Tennis/WTA 2022.txt')\n",
        "wta_2022.insert(0, 'year', '2022', True)\n",
        "\n",
        "wta_2021 = pd.read_csv('/content/drive/MyDrive/Datasets/SURFS Tennis/WTA 2021.txt')\n",
        "wta_2021.insert(0, 'year', '2021', True)\n",
        "\n",
        "wta_2020 = pd.read_csv('/content/drive/MyDrive/Datasets/SURFS Tennis/WTA 2020.txt')\n",
        "wta_2020.insert(0, 'year', '2020', True)\n",
        "\n",
        "wta_2019 = pd.read_csv('/content/drive/MyDrive/Datasets/SURFS Tennis/WTA 2019.txt')\n",
        "wta_2019.insert(0, 'year', '2019', True)\n",
        "\n",
        "wta_2018 = pd.read_csv('/content/drive/MyDrive/Datasets/SURFS Tennis/WTA 2018.txt')\n",
        "wta_2018.insert(0, 'year', '2018', True)"
      ],
      "metadata": {
        "id": "Op-ZmOVZH0cG"
      },
      "execution_count": 2,
      "outputs": []
    },
    {
      "cell_type": "code",
      "source": [
        "wta = pd.concat([wta_2022, wta_2021, wta_2020, wta_2019, wta_2018], axis=0, ignore_index=True)"
      ],
      "metadata": {
        "id": "ITpnDHghObZj"
      },
      "execution_count": 3,
      "outputs": []
    },
    {
      "cell_type": "code",
      "source": [
        "right_w_c = '#FF8119'\n",
        "right_l_c = '#FFD0A5'\n",
        "\n",
        "left_w_c = '#1997FF'\n",
        "left_l_c = '#A9D8FF'"
      ],
      "metadata": {
        "id": "vcCNx6WoKGvN"
      },
      "execution_count": 4,
      "outputs": []
    },
    {
      "cell_type": "code",
      "source": [
        "wta"
      ],
      "metadata": {
        "colab": {
          "base_uri": "https://localhost:8080/",
          "height": 748
        },
        "id": "oc-lGTEleF78",
        "outputId": "955200b3-fec9-4b0a-d13b-38a9c21ba540"
      },
      "execution_count": 5,
      "outputs": [
        {
          "output_type": "execute_result",
          "data": {
            "text/plain": [
              "       year                       tourney_id               tourney_name  \\\n",
              "0      2022                        2022-2014                 Adelaide 1   \n",
              "1      2022                        2022-2014                 Adelaide 1   \n",
              "2      2022                        2022-2014                 Adelaide 1   \n",
              "3      2022                        2022-2014                 Adelaide 1   \n",
              "4      2022                        2022-2014                 Adelaide 1   \n",
              "...     ...                              ...                        ...   \n",
              "11961  2018  2018-W-FC-2018-WG-PO-NED-AUS-01  Fed Cup WG R1: NED vs AUS   \n",
              "11962  2018  2018-W-FC-2018-WG-PO-NED-AUS-01  Fed Cup WG R1: NED vs AUS   \n",
              "11963  2018  2018-W-FC-2018-WG-PO-SUI-ROU-01  Fed Cup WG R1: SUI vs ROU   \n",
              "11964  2018  2018-W-FC-2018-WG-PO-SUI-ROU-01  Fed Cup WG R1: SUI vs ROU   \n",
              "11965  2018  2018-W-FC-2018-WG-PO-SUI-ROU-01  Fed Cup WG R1: SUI vs ROU   \n",
              "\n",
              "      surface  draw_size tourney_level  tourney_date  match_num  winner_id  \\\n",
              "0        Hard         30             P      20220103        300     202458   \n",
              "1        Hard         30             P      20220103        299     202458   \n",
              "2        Hard         30             P      20220103        298     214981   \n",
              "3        Hard         30             P      20220103        297     202458   \n",
              "4        Hard         30             P      20220103        296     216347   \n",
              "...       ...        ...           ...           ...        ...        ...   \n",
              "11961    Hard          4             D      20180421          3     202458   \n",
              "11962    Hard          4             D      20180421          4     201611   \n",
              "11963    Clay          4             D      20180421          1     201594   \n",
              "11964    Clay          4             D      20180421          2     201593   \n",
              "11965    Clay          4             D      20180421          3     201594   \n",
              "\n",
              "      winner_seed  ... l_1stIn l_1stWon l_2ndWon  l_SvGms l_bpSaved  \\\n",
              "0               1  ...    19.0     16.0     11.0      8.0       0.0   \n",
              "1               1  ...    39.0     27.0      9.0      9.0       2.0   \n",
              "2               7  ...    45.0     29.0     12.0     10.0       7.0   \n",
              "3               1  ...    54.0     34.0      7.0      9.0       7.0   \n",
              "4               5  ...    45.0     30.0     12.0     12.0       6.0   \n",
              "...           ...  ...     ...      ...      ...      ...       ...   \n",
              "11961         NaN  ...    33.0     17.0     12.0      9.0       3.0   \n",
              "11962         NaN  ...    26.0     13.0     12.0      8.0       2.0   \n",
              "11963         NaN  ...    56.0     34.0     10.0     11.0       5.0   \n",
              "11964         NaN  ...    32.0     18.0      5.0      8.0       3.0   \n",
              "11965         NaN  ...    31.0     10.0     10.0      7.0       4.0   \n",
              "\n",
              "       l_bpFaced  winner_rank winner_rank_points loser_rank loser_rank_points  \n",
              "0            3.0          1.0             7582.0       14.0            2855.0  \n",
              "1            5.0          1.0             7582.0        9.0            3786.0  \n",
              "2           11.0         14.0             2855.0      105.0             771.0  \n",
              "3            9.0          1.0             7582.0       12.0            2971.0  \n",
              "4           11.0          9.0             3786.0       27.0            2166.0  \n",
              "...          ...          ...                ...        ...               ...  \n",
              "11961        7.0         19.0             2318.0      210.0             260.0  \n",
              "11962        6.0         24.0             1925.0      295.0             156.0  \n",
              "11963        9.0          1.0             8140.0      115.0             575.0  \n",
              "11964        9.0         38.0             1270.0       46.0            1132.0  \n",
              "11965       10.0          1.0             8140.0      149.0             398.0  \n",
              "\n",
              "[11966 rows x 50 columns]"
            ],
            "text/html": [
              "\n",
              "  <div id=\"df-cb5dc924-735a-42d8-85fe-988e9d0758a5\">\n",
              "    <div class=\"colab-df-container\">\n",
              "      <div>\n",
              "<style scoped>\n",
              "    .dataframe tbody tr th:only-of-type {\n",
              "        vertical-align: middle;\n",
              "    }\n",
              "\n",
              "    .dataframe tbody tr th {\n",
              "        vertical-align: top;\n",
              "    }\n",
              "\n",
              "    .dataframe thead th {\n",
              "        text-align: right;\n",
              "    }\n",
              "</style>\n",
              "<table border=\"1\" class=\"dataframe\">\n",
              "  <thead>\n",
              "    <tr style=\"text-align: right;\">\n",
              "      <th></th>\n",
              "      <th>year</th>\n",
              "      <th>tourney_id</th>\n",
              "      <th>tourney_name</th>\n",
              "      <th>surface</th>\n",
              "      <th>draw_size</th>\n",
              "      <th>tourney_level</th>\n",
              "      <th>tourney_date</th>\n",
              "      <th>match_num</th>\n",
              "      <th>winner_id</th>\n",
              "      <th>winner_seed</th>\n",
              "      <th>...</th>\n",
              "      <th>l_1stIn</th>\n",
              "      <th>l_1stWon</th>\n",
              "      <th>l_2ndWon</th>\n",
              "      <th>l_SvGms</th>\n",
              "      <th>l_bpSaved</th>\n",
              "      <th>l_bpFaced</th>\n",
              "      <th>winner_rank</th>\n",
              "      <th>winner_rank_points</th>\n",
              "      <th>loser_rank</th>\n",
              "      <th>loser_rank_points</th>\n",
              "    </tr>\n",
              "  </thead>\n",
              "  <tbody>\n",
              "    <tr>\n",
              "      <th>0</th>\n",
              "      <td>2022</td>\n",
              "      <td>2022-2014</td>\n",
              "      <td>Adelaide 1</td>\n",
              "      <td>Hard</td>\n",
              "      <td>30</td>\n",
              "      <td>P</td>\n",
              "      <td>20220103</td>\n",
              "      <td>300</td>\n",
              "      <td>202458</td>\n",
              "      <td>1</td>\n",
              "      <td>...</td>\n",
              "      <td>19.0</td>\n",
              "      <td>16.0</td>\n",
              "      <td>11.0</td>\n",
              "      <td>8.0</td>\n",
              "      <td>0.0</td>\n",
              "      <td>3.0</td>\n",
              "      <td>1.0</td>\n",
              "      <td>7582.0</td>\n",
              "      <td>14.0</td>\n",
              "      <td>2855.0</td>\n",
              "    </tr>\n",
              "    <tr>\n",
              "      <th>1</th>\n",
              "      <td>2022</td>\n",
              "      <td>2022-2014</td>\n",
              "      <td>Adelaide 1</td>\n",
              "      <td>Hard</td>\n",
              "      <td>30</td>\n",
              "      <td>P</td>\n",
              "      <td>20220103</td>\n",
              "      <td>299</td>\n",
              "      <td>202458</td>\n",
              "      <td>1</td>\n",
              "      <td>...</td>\n",
              "      <td>39.0</td>\n",
              "      <td>27.0</td>\n",
              "      <td>9.0</td>\n",
              "      <td>9.0</td>\n",
              "      <td>2.0</td>\n",
              "      <td>5.0</td>\n",
              "      <td>1.0</td>\n",
              "      <td>7582.0</td>\n",
              "      <td>9.0</td>\n",
              "      <td>3786.0</td>\n",
              "    </tr>\n",
              "    <tr>\n",
              "      <th>2</th>\n",
              "      <td>2022</td>\n",
              "      <td>2022-2014</td>\n",
              "      <td>Adelaide 1</td>\n",
              "      <td>Hard</td>\n",
              "      <td>30</td>\n",
              "      <td>P</td>\n",
              "      <td>20220103</td>\n",
              "      <td>298</td>\n",
              "      <td>214981</td>\n",
              "      <td>7</td>\n",
              "      <td>...</td>\n",
              "      <td>45.0</td>\n",
              "      <td>29.0</td>\n",
              "      <td>12.0</td>\n",
              "      <td>10.0</td>\n",
              "      <td>7.0</td>\n",
              "      <td>11.0</td>\n",
              "      <td>14.0</td>\n",
              "      <td>2855.0</td>\n",
              "      <td>105.0</td>\n",
              "      <td>771.0</td>\n",
              "    </tr>\n",
              "    <tr>\n",
              "      <th>3</th>\n",
              "      <td>2022</td>\n",
              "      <td>2022-2014</td>\n",
              "      <td>Adelaide 1</td>\n",
              "      <td>Hard</td>\n",
              "      <td>30</td>\n",
              "      <td>P</td>\n",
              "      <td>20220103</td>\n",
              "      <td>297</td>\n",
              "      <td>202458</td>\n",
              "      <td>1</td>\n",
              "      <td>...</td>\n",
              "      <td>54.0</td>\n",
              "      <td>34.0</td>\n",
              "      <td>7.0</td>\n",
              "      <td>9.0</td>\n",
              "      <td>7.0</td>\n",
              "      <td>9.0</td>\n",
              "      <td>1.0</td>\n",
              "      <td>7582.0</td>\n",
              "      <td>12.0</td>\n",
              "      <td>2971.0</td>\n",
              "    </tr>\n",
              "    <tr>\n",
              "      <th>4</th>\n",
              "      <td>2022</td>\n",
              "      <td>2022-2014</td>\n",
              "      <td>Adelaide 1</td>\n",
              "      <td>Hard</td>\n",
              "      <td>30</td>\n",
              "      <td>P</td>\n",
              "      <td>20220103</td>\n",
              "      <td>296</td>\n",
              "      <td>216347</td>\n",
              "      <td>5</td>\n",
              "      <td>...</td>\n",
              "      <td>45.0</td>\n",
              "      <td>30.0</td>\n",
              "      <td>12.0</td>\n",
              "      <td>12.0</td>\n",
              "      <td>6.0</td>\n",
              "      <td>11.0</td>\n",
              "      <td>9.0</td>\n",
              "      <td>3786.0</td>\n",
              "      <td>27.0</td>\n",
              "      <td>2166.0</td>\n",
              "    </tr>\n",
              "    <tr>\n",
              "      <th>...</th>\n",
              "      <td>...</td>\n",
              "      <td>...</td>\n",
              "      <td>...</td>\n",
              "      <td>...</td>\n",
              "      <td>...</td>\n",
              "      <td>...</td>\n",
              "      <td>...</td>\n",
              "      <td>...</td>\n",
              "      <td>...</td>\n",
              "      <td>...</td>\n",
              "      <td>...</td>\n",
              "      <td>...</td>\n",
              "      <td>...</td>\n",
              "      <td>...</td>\n",
              "      <td>...</td>\n",
              "      <td>...</td>\n",
              "      <td>...</td>\n",
              "      <td>...</td>\n",
              "      <td>...</td>\n",
              "      <td>...</td>\n",
              "      <td>...</td>\n",
              "    </tr>\n",
              "    <tr>\n",
              "      <th>11961</th>\n",
              "      <td>2018</td>\n",
              "      <td>2018-W-FC-2018-WG-PO-NED-AUS-01</td>\n",
              "      <td>Fed Cup WG R1: NED vs AUS</td>\n",
              "      <td>Hard</td>\n",
              "      <td>4</td>\n",
              "      <td>D</td>\n",
              "      <td>20180421</td>\n",
              "      <td>3</td>\n",
              "      <td>202458</td>\n",
              "      <td>NaN</td>\n",
              "      <td>...</td>\n",
              "      <td>33.0</td>\n",
              "      <td>17.0</td>\n",
              "      <td>12.0</td>\n",
              "      <td>9.0</td>\n",
              "      <td>3.0</td>\n",
              "      <td>7.0</td>\n",
              "      <td>19.0</td>\n",
              "      <td>2318.0</td>\n",
              "      <td>210.0</td>\n",
              "      <td>260.0</td>\n",
              "    </tr>\n",
              "    <tr>\n",
              "      <th>11962</th>\n",
              "      <td>2018</td>\n",
              "      <td>2018-W-FC-2018-WG-PO-NED-AUS-01</td>\n",
              "      <td>Fed Cup WG R1: NED vs AUS</td>\n",
              "      <td>Hard</td>\n",
              "      <td>4</td>\n",
              "      <td>D</td>\n",
              "      <td>20180421</td>\n",
              "      <td>4</td>\n",
              "      <td>201611</td>\n",
              "      <td>NaN</td>\n",
              "      <td>...</td>\n",
              "      <td>26.0</td>\n",
              "      <td>13.0</td>\n",
              "      <td>12.0</td>\n",
              "      <td>8.0</td>\n",
              "      <td>2.0</td>\n",
              "      <td>6.0</td>\n",
              "      <td>24.0</td>\n",
              "      <td>1925.0</td>\n",
              "      <td>295.0</td>\n",
              "      <td>156.0</td>\n",
              "    </tr>\n",
              "    <tr>\n",
              "      <th>11963</th>\n",
              "      <td>2018</td>\n",
              "      <td>2018-W-FC-2018-WG-PO-SUI-ROU-01</td>\n",
              "      <td>Fed Cup WG R1: SUI vs ROU</td>\n",
              "      <td>Clay</td>\n",
              "      <td>4</td>\n",
              "      <td>D</td>\n",
              "      <td>20180421</td>\n",
              "      <td>1</td>\n",
              "      <td>201594</td>\n",
              "      <td>NaN</td>\n",
              "      <td>...</td>\n",
              "      <td>56.0</td>\n",
              "      <td>34.0</td>\n",
              "      <td>10.0</td>\n",
              "      <td>11.0</td>\n",
              "      <td>5.0</td>\n",
              "      <td>9.0</td>\n",
              "      <td>1.0</td>\n",
              "      <td>8140.0</td>\n",
              "      <td>115.0</td>\n",
              "      <td>575.0</td>\n",
              "    </tr>\n",
              "    <tr>\n",
              "      <th>11964</th>\n",
              "      <td>2018</td>\n",
              "      <td>2018-W-FC-2018-WG-PO-SUI-ROU-01</td>\n",
              "      <td>Fed Cup WG R1: SUI vs ROU</td>\n",
              "      <td>Clay</td>\n",
              "      <td>4</td>\n",
              "      <td>D</td>\n",
              "      <td>20180421</td>\n",
              "      <td>2</td>\n",
              "      <td>201593</td>\n",
              "      <td>NaN</td>\n",
              "      <td>...</td>\n",
              "      <td>32.0</td>\n",
              "      <td>18.0</td>\n",
              "      <td>5.0</td>\n",
              "      <td>8.0</td>\n",
              "      <td>3.0</td>\n",
              "      <td>9.0</td>\n",
              "      <td>38.0</td>\n",
              "      <td>1270.0</td>\n",
              "      <td>46.0</td>\n",
              "      <td>1132.0</td>\n",
              "    </tr>\n",
              "    <tr>\n",
              "      <th>11965</th>\n",
              "      <td>2018</td>\n",
              "      <td>2018-W-FC-2018-WG-PO-SUI-ROU-01</td>\n",
              "      <td>Fed Cup WG R1: SUI vs ROU</td>\n",
              "      <td>Clay</td>\n",
              "      <td>4</td>\n",
              "      <td>D</td>\n",
              "      <td>20180421</td>\n",
              "      <td>3</td>\n",
              "      <td>201594</td>\n",
              "      <td>NaN</td>\n",
              "      <td>...</td>\n",
              "      <td>31.0</td>\n",
              "      <td>10.0</td>\n",
              "      <td>10.0</td>\n",
              "      <td>7.0</td>\n",
              "      <td>4.0</td>\n",
              "      <td>10.0</td>\n",
              "      <td>1.0</td>\n",
              "      <td>8140.0</td>\n",
              "      <td>149.0</td>\n",
              "      <td>398.0</td>\n",
              "    </tr>\n",
              "  </tbody>\n",
              "</table>\n",
              "<p>11966 rows × 50 columns</p>\n",
              "</div>\n",
              "      <button class=\"colab-df-convert\" onclick=\"convertToInteractive('df-cb5dc924-735a-42d8-85fe-988e9d0758a5')\"\n",
              "              title=\"Convert this dataframe to an interactive table.\"\n",
              "              style=\"display:none;\">\n",
              "        \n",
              "  <svg xmlns=\"http://www.w3.org/2000/svg\" height=\"24px\"viewBox=\"0 0 24 24\"\n",
              "       width=\"24px\">\n",
              "    <path d=\"M0 0h24v24H0V0z\" fill=\"none\"/>\n",
              "    <path d=\"M18.56 5.44l.94 2.06.94-2.06 2.06-.94-2.06-.94-.94-2.06-.94 2.06-2.06.94zm-11 1L8.5 8.5l.94-2.06 2.06-.94-2.06-.94L8.5 2.5l-.94 2.06-2.06.94zm10 10l.94 2.06.94-2.06 2.06-.94-2.06-.94-.94-2.06-.94 2.06-2.06.94z\"/><path d=\"M17.41 7.96l-1.37-1.37c-.4-.4-.92-.59-1.43-.59-.52 0-1.04.2-1.43.59L10.3 9.45l-7.72 7.72c-.78.78-.78 2.05 0 2.83L4 21.41c.39.39.9.59 1.41.59.51 0 1.02-.2 1.41-.59l7.78-7.78 2.81-2.81c.8-.78.8-2.07 0-2.86zM5.41 20L4 18.59l7.72-7.72 1.47 1.35L5.41 20z\"/>\n",
              "  </svg>\n",
              "      </button>\n",
              "      \n",
              "  <style>\n",
              "    .colab-df-container {\n",
              "      display:flex;\n",
              "      flex-wrap:wrap;\n",
              "      gap: 12px;\n",
              "    }\n",
              "\n",
              "    .colab-df-convert {\n",
              "      background-color: #E8F0FE;\n",
              "      border: none;\n",
              "      border-radius: 50%;\n",
              "      cursor: pointer;\n",
              "      display: none;\n",
              "      fill: #1967D2;\n",
              "      height: 32px;\n",
              "      padding: 0 0 0 0;\n",
              "      width: 32px;\n",
              "    }\n",
              "\n",
              "    .colab-df-convert:hover {\n",
              "      background-color: #E2EBFA;\n",
              "      box-shadow: 0px 1px 2px rgba(60, 64, 67, 0.3), 0px 1px 3px 1px rgba(60, 64, 67, 0.15);\n",
              "      fill: #174EA6;\n",
              "    }\n",
              "\n",
              "    [theme=dark] .colab-df-convert {\n",
              "      background-color: #3B4455;\n",
              "      fill: #D2E3FC;\n",
              "    }\n",
              "\n",
              "    [theme=dark] .colab-df-convert:hover {\n",
              "      background-color: #434B5C;\n",
              "      box-shadow: 0px 1px 3px 1px rgba(0, 0, 0, 0.15);\n",
              "      filter: drop-shadow(0px 1px 2px rgba(0, 0, 0, 0.3));\n",
              "      fill: #FFFFFF;\n",
              "    }\n",
              "  </style>\n",
              "\n",
              "      <script>\n",
              "        const buttonEl =\n",
              "          document.querySelector('#df-cb5dc924-735a-42d8-85fe-988e9d0758a5 button.colab-df-convert');\n",
              "        buttonEl.style.display =\n",
              "          google.colab.kernel.accessAllowed ? 'block' : 'none';\n",
              "\n",
              "        async function convertToInteractive(key) {\n",
              "          const element = document.querySelector('#df-cb5dc924-735a-42d8-85fe-988e9d0758a5');\n",
              "          const dataTable =\n",
              "            await google.colab.kernel.invokeFunction('convertToInteractive',\n",
              "                                                     [key], {});\n",
              "          if (!dataTable) return;\n",
              "\n",
              "          const docLinkHtml = 'Like what you see? Visit the ' +\n",
              "            '<a target=\"_blank\" href=https://colab.research.google.com/notebooks/data_table.ipynb>data table notebook</a>'\n",
              "            + ' to learn more about interactive tables.';\n",
              "          element.innerHTML = '';\n",
              "          dataTable['output_type'] = 'display_data';\n",
              "          await google.colab.output.renderOutput(dataTable, element);\n",
              "          const docLink = document.createElement('div');\n",
              "          docLink.innerHTML = docLinkHtml;\n",
              "          element.appendChild(docLink);\n",
              "        }\n",
              "      </script>\n",
              "    </div>\n",
              "  </div>\n",
              "  "
            ]
          },
          "metadata": {},
          "execution_count": 5
        }
      ]
    },
    {
      "cell_type": "code",
      "source": [
        "condition_final = wta['round'] == 'F'\n",
        "wta[condition_final]"
      ],
      "metadata": {
        "colab": {
          "base_uri": "https://localhost:8080/",
          "height": 487
        },
        "id": "ygDmisxi9W5q",
        "outputId": "5eb5ddb7-5683-43c8-859f-056291c1941f"
      },
      "execution_count": 6,
      "outputs": [
        {
          "output_type": "execute_result",
          "data": {
            "text/plain": [
              "       year tourney_id tourney_name surface  draw_size tourney_level  \\\n",
              "0      2022  2022-2014   Adelaide 1    Hard         30             P   \n",
              "59     2022  2022-2058  Melbourne 1    Hard         32             I   \n",
              "90     2022  2022-2059  Melbourne 2    Hard         32             I   \n",
              "91     2022  2022-2030   Adelaide 2    Hard         32             I   \n",
              "122    2022  2022-2060       Sydney    Hard         30             P   \n",
              "...     ...        ...          ...     ...        ...           ...   \n",
              "11500  2018  2018-M016   Eastbourne   Grass         64             P   \n",
              "11529  2018  2018-M020     Brisbane    Hard         32             P   \n",
              "11592  2018  2018-M021       Madrid    Clay         64            PM   \n",
              "11647  2018  2018-M024   Cincinnati    Hard         64            PM   \n",
              "11678  2018  2018-M035   Washington    Hard         32             I   \n",
              "\n",
              "       tourney_date  match_num  winner_id winner_seed  ... l_1stIn l_1stWon  \\\n",
              "0          20220103        300     202458           1  ...    19.0     16.0   \n",
              "59         20220103        270     201594           2  ...    27.0     13.0   \n",
              "90         20220103        270     216153         NaN  ...    59.0     42.0   \n",
              "91         20220110        300     201619         NaN  ...    33.0     20.0   \n",
              "122        20220110        300     211651           5  ...    69.0     43.0   \n",
              "...             ...        ...        ...         ...  ...     ...      ...   \n",
              "11500      20180625        300     201496         1.0  ...    53.0     29.0   \n",
              "11529      20180101        300     202494         3.0  ...    29.0     11.0   \n",
              "11592      20180507        300     201520        10.0  ...    80.0     52.0   \n",
              "11647      20180813        300     202428         NaN  ...    76.0     48.0   \n",
              "11678      20180730        300     201320         NaN  ...     NaN      NaN   \n",
              "\n",
              "      l_2ndWon  l_SvGms l_bpSaved  l_bpFaced  winner_rank winner_rank_points  \\\n",
              "0         11.0      8.0       0.0        3.0          1.0             7582.0   \n",
              "59         7.0      8.0       2.0        7.0         20.0             2576.0   \n",
              "90        13.0     14.0       7.0       11.0         78.0              890.0   \n",
              "91         8.0      8.0       2.0        6.0         87.0              874.0   \n",
              "122       12.0     16.0       3.0        8.0          9.0             3849.0   \n",
              "...        ...      ...       ...        ...          ...                ...   \n",
              "11500     16.0     12.0       5.0       11.0          2.0             6745.0   \n",
              "11529     17.0      7.0       7.0       11.0          6.0             5500.0   \n",
              "11592     19.0     15.0      11.0       14.0         10.0             3550.0   \n",
              "11647      9.0     14.0       8.0       12.0         17.0             2420.0   \n",
              "11678      NaN      NaN       NaN        NaN        128.0              474.0   \n",
              "\n",
              "      loser_rank loser_rank_points  \n",
              "0           14.0            2855.0  \n",
              "59          31.0            1870.0  \n",
              "90         107.0             755.0  \n",
              "91          57.0            1121.0  \n",
              "122          4.0            5008.0  \n",
              "...          ...               ...  \n",
              "11500       45.0            1145.0  \n",
              "11529       88.0             735.0  \n",
              "11592       20.0            2135.0  \n",
              "11647        1.0            8061.0  \n",
              "11678       44.0            1180.0  \n",
              "\n",
              "[252 rows x 50 columns]"
            ],
            "text/html": [
              "\n",
              "  <div id=\"df-93481df3-9812-4708-a23c-e1a7b9b9dcc4\">\n",
              "    <div class=\"colab-df-container\">\n",
              "      <div>\n",
              "<style scoped>\n",
              "    .dataframe tbody tr th:only-of-type {\n",
              "        vertical-align: middle;\n",
              "    }\n",
              "\n",
              "    .dataframe tbody tr th {\n",
              "        vertical-align: top;\n",
              "    }\n",
              "\n",
              "    .dataframe thead th {\n",
              "        text-align: right;\n",
              "    }\n",
              "</style>\n",
              "<table border=\"1\" class=\"dataframe\">\n",
              "  <thead>\n",
              "    <tr style=\"text-align: right;\">\n",
              "      <th></th>\n",
              "      <th>year</th>\n",
              "      <th>tourney_id</th>\n",
              "      <th>tourney_name</th>\n",
              "      <th>surface</th>\n",
              "      <th>draw_size</th>\n",
              "      <th>tourney_level</th>\n",
              "      <th>tourney_date</th>\n",
              "      <th>match_num</th>\n",
              "      <th>winner_id</th>\n",
              "      <th>winner_seed</th>\n",
              "      <th>...</th>\n",
              "      <th>l_1stIn</th>\n",
              "      <th>l_1stWon</th>\n",
              "      <th>l_2ndWon</th>\n",
              "      <th>l_SvGms</th>\n",
              "      <th>l_bpSaved</th>\n",
              "      <th>l_bpFaced</th>\n",
              "      <th>winner_rank</th>\n",
              "      <th>winner_rank_points</th>\n",
              "      <th>loser_rank</th>\n",
              "      <th>loser_rank_points</th>\n",
              "    </tr>\n",
              "  </thead>\n",
              "  <tbody>\n",
              "    <tr>\n",
              "      <th>0</th>\n",
              "      <td>2022</td>\n",
              "      <td>2022-2014</td>\n",
              "      <td>Adelaide 1</td>\n",
              "      <td>Hard</td>\n",
              "      <td>30</td>\n",
              "      <td>P</td>\n",
              "      <td>20220103</td>\n",
              "      <td>300</td>\n",
              "      <td>202458</td>\n",
              "      <td>1</td>\n",
              "      <td>...</td>\n",
              "      <td>19.0</td>\n",
              "      <td>16.0</td>\n",
              "      <td>11.0</td>\n",
              "      <td>8.0</td>\n",
              "      <td>0.0</td>\n",
              "      <td>3.0</td>\n",
              "      <td>1.0</td>\n",
              "      <td>7582.0</td>\n",
              "      <td>14.0</td>\n",
              "      <td>2855.0</td>\n",
              "    </tr>\n",
              "    <tr>\n",
              "      <th>59</th>\n",
              "      <td>2022</td>\n",
              "      <td>2022-2058</td>\n",
              "      <td>Melbourne 1</td>\n",
              "      <td>Hard</td>\n",
              "      <td>32</td>\n",
              "      <td>I</td>\n",
              "      <td>20220103</td>\n",
              "      <td>270</td>\n",
              "      <td>201594</td>\n",
              "      <td>2</td>\n",
              "      <td>...</td>\n",
              "      <td>27.0</td>\n",
              "      <td>13.0</td>\n",
              "      <td>7.0</td>\n",
              "      <td>8.0</td>\n",
              "      <td>2.0</td>\n",
              "      <td>7.0</td>\n",
              "      <td>20.0</td>\n",
              "      <td>2576.0</td>\n",
              "      <td>31.0</td>\n",
              "      <td>1870.0</td>\n",
              "    </tr>\n",
              "    <tr>\n",
              "      <th>90</th>\n",
              "      <td>2022</td>\n",
              "      <td>2022-2059</td>\n",
              "      <td>Melbourne 2</td>\n",
              "      <td>Hard</td>\n",
              "      <td>32</td>\n",
              "      <td>I</td>\n",
              "      <td>20220103</td>\n",
              "      <td>270</td>\n",
              "      <td>216153</td>\n",
              "      <td>NaN</td>\n",
              "      <td>...</td>\n",
              "      <td>59.0</td>\n",
              "      <td>42.0</td>\n",
              "      <td>13.0</td>\n",
              "      <td>14.0</td>\n",
              "      <td>7.0</td>\n",
              "      <td>11.0</td>\n",
              "      <td>78.0</td>\n",
              "      <td>890.0</td>\n",
              "      <td>107.0</td>\n",
              "      <td>755.0</td>\n",
              "    </tr>\n",
              "    <tr>\n",
              "      <th>91</th>\n",
              "      <td>2022</td>\n",
              "      <td>2022-2030</td>\n",
              "      <td>Adelaide 2</td>\n",
              "      <td>Hard</td>\n",
              "      <td>32</td>\n",
              "      <td>I</td>\n",
              "      <td>20220110</td>\n",
              "      <td>300</td>\n",
              "      <td>201619</td>\n",
              "      <td>NaN</td>\n",
              "      <td>...</td>\n",
              "      <td>33.0</td>\n",
              "      <td>20.0</td>\n",
              "      <td>8.0</td>\n",
              "      <td>8.0</td>\n",
              "      <td>2.0</td>\n",
              "      <td>6.0</td>\n",
              "      <td>87.0</td>\n",
              "      <td>874.0</td>\n",
              "      <td>57.0</td>\n",
              "      <td>1121.0</td>\n",
              "    </tr>\n",
              "    <tr>\n",
              "      <th>122</th>\n",
              "      <td>2022</td>\n",
              "      <td>2022-2060</td>\n",
              "      <td>Sydney</td>\n",
              "      <td>Hard</td>\n",
              "      <td>30</td>\n",
              "      <td>P</td>\n",
              "      <td>20220110</td>\n",
              "      <td>300</td>\n",
              "      <td>211651</td>\n",
              "      <td>5</td>\n",
              "      <td>...</td>\n",
              "      <td>69.0</td>\n",
              "      <td>43.0</td>\n",
              "      <td>12.0</td>\n",
              "      <td>16.0</td>\n",
              "      <td>3.0</td>\n",
              "      <td>8.0</td>\n",
              "      <td>9.0</td>\n",
              "      <td>3849.0</td>\n",
              "      <td>4.0</td>\n",
              "      <td>5008.0</td>\n",
              "    </tr>\n",
              "    <tr>\n",
              "      <th>...</th>\n",
              "      <td>...</td>\n",
              "      <td>...</td>\n",
              "      <td>...</td>\n",
              "      <td>...</td>\n",
              "      <td>...</td>\n",
              "      <td>...</td>\n",
              "      <td>...</td>\n",
              "      <td>...</td>\n",
              "      <td>...</td>\n",
              "      <td>...</td>\n",
              "      <td>...</td>\n",
              "      <td>...</td>\n",
              "      <td>...</td>\n",
              "      <td>...</td>\n",
              "      <td>...</td>\n",
              "      <td>...</td>\n",
              "      <td>...</td>\n",
              "      <td>...</td>\n",
              "      <td>...</td>\n",
              "      <td>...</td>\n",
              "      <td>...</td>\n",
              "    </tr>\n",
              "    <tr>\n",
              "      <th>11500</th>\n",
              "      <td>2018</td>\n",
              "      <td>2018-M016</td>\n",
              "      <td>Eastbourne</td>\n",
              "      <td>Grass</td>\n",
              "      <td>64</td>\n",
              "      <td>P</td>\n",
              "      <td>20180625</td>\n",
              "      <td>300</td>\n",
              "      <td>201496</td>\n",
              "      <td>1.0</td>\n",
              "      <td>...</td>\n",
              "      <td>53.0</td>\n",
              "      <td>29.0</td>\n",
              "      <td>16.0</td>\n",
              "      <td>12.0</td>\n",
              "      <td>5.0</td>\n",
              "      <td>11.0</td>\n",
              "      <td>2.0</td>\n",
              "      <td>6745.0</td>\n",
              "      <td>45.0</td>\n",
              "      <td>1145.0</td>\n",
              "    </tr>\n",
              "    <tr>\n",
              "      <th>11529</th>\n",
              "      <td>2018</td>\n",
              "      <td>2018-M020</td>\n",
              "      <td>Brisbane</td>\n",
              "      <td>Hard</td>\n",
              "      <td>32</td>\n",
              "      <td>P</td>\n",
              "      <td>20180101</td>\n",
              "      <td>300</td>\n",
              "      <td>202494</td>\n",
              "      <td>3.0</td>\n",
              "      <td>...</td>\n",
              "      <td>29.0</td>\n",
              "      <td>11.0</td>\n",
              "      <td>17.0</td>\n",
              "      <td>7.0</td>\n",
              "      <td>7.0</td>\n",
              "      <td>11.0</td>\n",
              "      <td>6.0</td>\n",
              "      <td>5500.0</td>\n",
              "      <td>88.0</td>\n",
              "      <td>735.0</td>\n",
              "    </tr>\n",
              "    <tr>\n",
              "      <th>11592</th>\n",
              "      <td>2018</td>\n",
              "      <td>2018-M021</td>\n",
              "      <td>Madrid</td>\n",
              "      <td>Clay</td>\n",
              "      <td>64</td>\n",
              "      <td>PM</td>\n",
              "      <td>20180507</td>\n",
              "      <td>300</td>\n",
              "      <td>201520</td>\n",
              "      <td>10.0</td>\n",
              "      <td>...</td>\n",
              "      <td>80.0</td>\n",
              "      <td>52.0</td>\n",
              "      <td>19.0</td>\n",
              "      <td>15.0</td>\n",
              "      <td>11.0</td>\n",
              "      <td>14.0</td>\n",
              "      <td>10.0</td>\n",
              "      <td>3550.0</td>\n",
              "      <td>20.0</td>\n",
              "      <td>2135.0</td>\n",
              "    </tr>\n",
              "    <tr>\n",
              "      <th>11647</th>\n",
              "      <td>2018</td>\n",
              "      <td>2018-M024</td>\n",
              "      <td>Cincinnati</td>\n",
              "      <td>Hard</td>\n",
              "      <td>64</td>\n",
              "      <td>PM</td>\n",
              "      <td>20180813</td>\n",
              "      <td>300</td>\n",
              "      <td>202428</td>\n",
              "      <td>NaN</td>\n",
              "      <td>...</td>\n",
              "      <td>76.0</td>\n",
              "      <td>48.0</td>\n",
              "      <td>9.0</td>\n",
              "      <td>14.0</td>\n",
              "      <td>8.0</td>\n",
              "      <td>12.0</td>\n",
              "      <td>17.0</td>\n",
              "      <td>2420.0</td>\n",
              "      <td>1.0</td>\n",
              "      <td>8061.0</td>\n",
              "    </tr>\n",
              "    <tr>\n",
              "      <th>11678</th>\n",
              "      <td>2018</td>\n",
              "      <td>2018-M035</td>\n",
              "      <td>Washington</td>\n",
              "      <td>Hard</td>\n",
              "      <td>32</td>\n",
              "      <td>I</td>\n",
              "      <td>20180730</td>\n",
              "      <td>300</td>\n",
              "      <td>201320</td>\n",
              "      <td>NaN</td>\n",
              "      <td>...</td>\n",
              "      <td>NaN</td>\n",
              "      <td>NaN</td>\n",
              "      <td>NaN</td>\n",
              "      <td>NaN</td>\n",
              "      <td>NaN</td>\n",
              "      <td>NaN</td>\n",
              "      <td>128.0</td>\n",
              "      <td>474.0</td>\n",
              "      <td>44.0</td>\n",
              "      <td>1180.0</td>\n",
              "    </tr>\n",
              "  </tbody>\n",
              "</table>\n",
              "<p>252 rows × 50 columns</p>\n",
              "</div>\n",
              "      <button class=\"colab-df-convert\" onclick=\"convertToInteractive('df-93481df3-9812-4708-a23c-e1a7b9b9dcc4')\"\n",
              "              title=\"Convert this dataframe to an interactive table.\"\n",
              "              style=\"display:none;\">\n",
              "        \n",
              "  <svg xmlns=\"http://www.w3.org/2000/svg\" height=\"24px\"viewBox=\"0 0 24 24\"\n",
              "       width=\"24px\">\n",
              "    <path d=\"M0 0h24v24H0V0z\" fill=\"none\"/>\n",
              "    <path d=\"M18.56 5.44l.94 2.06.94-2.06 2.06-.94-2.06-.94-.94-2.06-.94 2.06-2.06.94zm-11 1L8.5 8.5l.94-2.06 2.06-.94-2.06-.94L8.5 2.5l-.94 2.06-2.06.94zm10 10l.94 2.06.94-2.06 2.06-.94-2.06-.94-.94-2.06-.94 2.06-2.06.94z\"/><path d=\"M17.41 7.96l-1.37-1.37c-.4-.4-.92-.59-1.43-.59-.52 0-1.04.2-1.43.59L10.3 9.45l-7.72 7.72c-.78.78-.78 2.05 0 2.83L4 21.41c.39.39.9.59 1.41.59.51 0 1.02-.2 1.41-.59l7.78-7.78 2.81-2.81c.8-.78.8-2.07 0-2.86zM5.41 20L4 18.59l7.72-7.72 1.47 1.35L5.41 20z\"/>\n",
              "  </svg>\n",
              "      </button>\n",
              "      \n",
              "  <style>\n",
              "    .colab-df-container {\n",
              "      display:flex;\n",
              "      flex-wrap:wrap;\n",
              "      gap: 12px;\n",
              "    }\n",
              "\n",
              "    .colab-df-convert {\n",
              "      background-color: #E8F0FE;\n",
              "      border: none;\n",
              "      border-radius: 50%;\n",
              "      cursor: pointer;\n",
              "      display: none;\n",
              "      fill: #1967D2;\n",
              "      height: 32px;\n",
              "      padding: 0 0 0 0;\n",
              "      width: 32px;\n",
              "    }\n",
              "\n",
              "    .colab-df-convert:hover {\n",
              "      background-color: #E2EBFA;\n",
              "      box-shadow: 0px 1px 2px rgba(60, 64, 67, 0.3), 0px 1px 3px 1px rgba(60, 64, 67, 0.15);\n",
              "      fill: #174EA6;\n",
              "    }\n",
              "\n",
              "    [theme=dark] .colab-df-convert {\n",
              "      background-color: #3B4455;\n",
              "      fill: #D2E3FC;\n",
              "    }\n",
              "\n",
              "    [theme=dark] .colab-df-convert:hover {\n",
              "      background-color: #434B5C;\n",
              "      box-shadow: 0px 1px 3px 1px rgba(0, 0, 0, 0.15);\n",
              "      filter: drop-shadow(0px 1px 2px rgba(0, 0, 0, 0.3));\n",
              "      fill: #FFFFFF;\n",
              "    }\n",
              "  </style>\n",
              "\n",
              "      <script>\n",
              "        const buttonEl =\n",
              "          document.querySelector('#df-93481df3-9812-4708-a23c-e1a7b9b9dcc4 button.colab-df-convert');\n",
              "        buttonEl.style.display =\n",
              "          google.colab.kernel.accessAllowed ? 'block' : 'none';\n",
              "\n",
              "        async function convertToInteractive(key) {\n",
              "          const element = document.querySelector('#df-93481df3-9812-4708-a23c-e1a7b9b9dcc4');\n",
              "          const dataTable =\n",
              "            await google.colab.kernel.invokeFunction('convertToInteractive',\n",
              "                                                     [key], {});\n",
              "          if (!dataTable) return;\n",
              "\n",
              "          const docLinkHtml = 'Like what you see? Visit the ' +\n",
              "            '<a target=\"_blank\" href=https://colab.research.google.com/notebooks/data_table.ipynb>data table notebook</a>'\n",
              "            + ' to learn more about interactive tables.';\n",
              "          element.innerHTML = '';\n",
              "          dataTable['output_type'] = 'display_data';\n",
              "          await google.colab.output.renderOutput(dataTable, element);\n",
              "          const docLink = document.createElement('div');\n",
              "          docLink.innerHTML = docLinkHtml;\n",
              "          element.appendChild(docLink);\n",
              "        }\n",
              "      </script>\n",
              "    </div>\n",
              "  </div>\n",
              "  "
            ]
          },
          "metadata": {},
          "execution_count": 6
        }
      ]
    },
    {
      "cell_type": "code",
      "source": [
        "wta\n",
        "\n",
        "\n",
        "cnt = 0\n",
        "\n",
        "# list to hold visited values\n",
        "visited = []\n",
        "lefty = []\n",
        "righty = []\n",
        "\n",
        "# loop for counting the unique\n",
        "# values in height\n",
        "for i in range(0, len(wta['winner_name'])):\n",
        "\n",
        "    if wta['winner_name'][i] not in visited:\n",
        "\n",
        "        visited.append(wta['winner_name'][i])\n",
        "\n",
        "        if wta['winner_hand'][i] == 'L' :\n",
        "          lefty.append(wta['winner_name'][i])\n",
        "        else :\n",
        "          righty.append(wta['winner_name'][i])\n",
        "\n",
        "        cnt += 1\n",
        "\n",
        "# finds anyone who only lost a match\n",
        "for i in range(0, len(wta['loser_name'])):\n",
        "\n",
        "    if wta['loser_name'][i] not in visited:\n",
        "\n",
        "        visited.append(wta['loser_name'][i])\n",
        "\n",
        "        if wta['loser_hand'][i] == 'L' :\n",
        "          lefty.append(wta['loser_name'][i])\n",
        "        else :\n",
        "          righty.append(wta['loser_name'][i])\n",
        "\n",
        "        cnt += 1\n",
        "\n",
        "print(\"No.of.unique values :\",\n",
        "      cnt)\n",
        "\n",
        "print(\"unique values :\",\n",
        "      visited)\n",
        "\n",
        "print(\"lefties :\", lefty, '\\n', len(lefty))\n",
        "\n",
        "print(\"righties :\", righty, '\\n', len(righty))\n",
        "\n",
        "data = {'name': [visited],\n",
        "        }\n",
        "players_df = pd.DataFrame(data)"
      ],
      "metadata": {
        "colab": {
          "base_uri": "https://localhost:8080/"
        },
        "id": "HP9O2gGEu8Ey",
        "outputId": "b6984abf-e7dc-4177-a842-a5a436a6d4cc"
      },
      "execution_count": 7,
      "outputs": [
        {
          "output_type": "stream",
          "name": "stdout",
          "text": [
            "No.of.unique values : 758\n",
            "unique values : ['Ashleigh Barty', 'Elena Rybakina', 'Iga Swiatek', 'Misaki Doi', 'Sofia Kenin', 'Victoria Azarenka', 'Shelby Rogers', 'Kaja Juvan', 'Cori Gauff', 'Ajla Tomljanovic', 'Priscilla Hon', 'Leylah Fernandez', 'Marie Bouzkova', 'Maria Sakkari', 'Anastasia Gasanova', 'Veronika Kudermetova', 'Simona Halep', 'Naomi Osaka', 'Qinwen Zheng', 'Andrea Petkovic', 'Anastasia Potapova', 'Ana Konjuh', 'Viktorija Golubic', 'Maryna Zanevska', 'Clara Burel', 'Madison Brengle', 'Anna Bondar', 'Kaia Kanepi', 'Vera Zvonareva', 'Lesley Pattinama Kerkhove', 'Elena Gabriela Ruse', 'Amanda Anisimova', 'Aliaksandra Sasnovich', 'Daria Kasatkina', 'Ann Li', 'Irina Camelia Begu', 'Nuria Parrizas Diaz', 'Kamilla Rakhimova', 'Clara Tauson', 'Jasmine Paolini', 'Sorana Cirstea', 'Madison Keys', 'Claire Liu', 'Anastasija Sevastova', 'Sara Sorribes Tormo', 'Lin Zhu', 'Rebecca Peterson', 'Alison Riske Amritraj', 'Tamara Zidansek', 'Lauren Davis', 'Liudmila Samsonova', 'Anhelina Kalinina', 'Maddison Inglis', 'Marketa Vondrousova', 'Marta Kostyuk', 'Tereza Martincova', 'Paula Badosa', 'Barbora Krejcikova', 'Anett Kontaveit', 'Caroline Garcia', 'Ons Jabeur', 'Belinda Bencic', 'Garbine Muguruza', 'Jaqueline Cristian', 'Petra Kvitova', 'Oceane Dodin', 'Elise Mertens', 'Ekaterina Alexandrova', 'Lucia Bronzetti', 'Camila Giorgi', 'Bernarda Pera', 'Jessica Pegula', 'Xiyu Wang', 'Jelena Ostapenko', 'Jil Teichmann', 'Harmony Tan', 'Elina Svitolina', 'Alison Van Uytvanck', 'Qiang Wang', 'Martina Trevisan', 'Danielle Collins', 'Shuai Zhang', 'Beatriz Haddad Maia', 'Danka Kovinic', 'Emma Raducanu', 'Heather Watson', 'Alize Cornet', 'Magda Linette', 'Kristina Kucova', 'Samantha Stosur', 'Anastasia Pavlyuchenkova', 'Hailey Baptiste', 'Xin Yu Wang', 'Aryna Sabalenka', 'Petra Martic', 'Dayana Yastremska', 'Varvara Gracheva', 'Arantxa Rus', 'Sloane Stephens', 'Anna Kalinskaya', 'Daria Saville', 'Camila Osorio', 'Anna Karolina Schmiedlova', 'Caroline Dolehide', 'Chloe Paquet', 'Magdalena Frech', 'Vitalia Diatchenko', 'Tamara Korpatsch', 'Cristina Bucsa', 'Katie Boulter', 'Stefanie Voegele', 'Viktoriya Tomova', 'Marcela Zacarias', 'Mayar Sherif', 'Angelique Kerber', 'Harriet Dart', 'Katie Volynets', 'Katerina Siniakova', 'Astra Sharma', 'Yulia Putintseva', 'Linda Fruhvirtova', 'Karolina Muchova', 'Dalma Galfi', 'Tatjana Maria', 'Laura Pigossi', 'Elina Avanesyan', 'Mirjam Bjorklund', 'Irina Bara', 'Ipek Oz', 'Lucrezia Stefanini', 'Sara Errani', 'Ekaterine Gorgodze', 'Yuliana Lizarazo', 'Suzan Lamens', 'Coco Vandeweghe', 'Karolina Pliskova', 'Emma Navarro', 'Katarina Zavatska', 'Ulrikke Eikeri', 'Julia Grabher', 'Lesia Tsurenko', 'Ana Bogdan', 'Laura Siegemund', 'Eva Lys', 'Bianca Andreescu', 'Kristina Mladenovic', 'Petra Marcinko', 'Anna Lena Friedsam', 'Nefisa Berberovic', 'Fiona Ferro', 'Ekaterina Makarova', 'Leolia Jeanjean', 'Aleksandra Krunic', 'Fernanda Contreras Gomez', 'Elsa Jacquemot', 'Donna Vekic', 'Olga Danilovic', 'Diane Parry', 'Rebecca Marino', 'Yuriko Miyazaki', 'Jodie Burrage', 'Kirsten Flipkens', 'Caty Mcnally', 'Arianne Hartono', 'Anna Blinkova', 'Alycia Parks', 'Sabine Lisicki', 'Jule Niemeier', 'Katie Swan', 'Greet Minnen', 'Catherine Harrison', 'Mihaela Buzarnescu', 'Maja Chwalinska', 'Panna Udvardy', 'Mai Hontama', 'Katarzyna Kawa', 'Elisabetta Cocciaretto', 'Yanina Wickmayer', 'Despina Papamichail', 'Kateryna Baindl', 'Simona Waltert', 'Erika Andreeva', 'Susan Bandecchi', 'Maria Carle', 'Alexandra Cadantu Ignatik', 'Joanne Zuger', 'Linda Noskova', 'Oksana Selekhmeteva', 'Nao Hibino', 'Lucie Havlickova', 'Dalila Jakupovic', 'Dominika Salkova', 'Gabriela Lee', 'Nadia Podoroska', 'Taylor Townsend', 'Elizabeth Mandlik', 'Serena Williams', 'Asia Muhammad', 'Marina Stakusic', 'Cadence Brace', 'Katherine Sebov', 'Yue Yuan', 'Daria Snigur', 'Viktoria Kuzmova', 'Evgeniya Rodina', 'Eugenie Bouchard', 'Karman Thandi', 'Carol Zhao', 'Victoria Jimenez Kasintseva', 'Lulu Sun', 'Kimberly Birrell', 'Ankita Raina', 'Na Lae Han', 'Matilde Paoletti', 'Ysaline Bonaventure', 'Moyuka Uchijima', 'Louisa Chirico', 'Storm Sanders', 'Solana Sierra', 'Jazmin Ortenzi', 'Carolina Alves', 'Maria Fernanda Herazo Gonzalez', 'Barbara Gatica', 'Daniela Seguel', 'Renata Zarazua', 'Giuliana Olmos', 'Fernanda Labrana', 'Leyla Fiorella Britez Risso', 'Mell Elizabeth Reasco Gonzalez', 'Maria Gabriela Rivera Corado', 'Vivian Yang', 'Aldila Sutjiadi', 'Rutuja Bhosale', 'Yuki Naito', 'Su Jeong Jang', 'Riya Bhatia', 'Maileen Nuudi', 'Sofia Nami Samavati', 'Reka Luca Jani', 'Johanne Christine Svendsen', 'Lola Radivojevic', 'Pemra Ozgen', 'Sinja Kraus', 'Julia Terziyska', 'Pia Lovric', 'Caijsa Wilda Hennemann', 'Isabella Shinikova', 'Jacqueline Cabaj Awad', 'Kajsa Rinaldo Persson', 'Ziva Falkner', 'Zoziya Kardava', 'Malene Helgo', 'Michaela Laki', 'Nicole Khirin', 'Shavit Kimchi', 'Andre Lukosiute', 'Justina Mikulskyte', 'Marie Weckerle', 'Mandy Minella', 'Lina Glushko', 'Martha Matoula', 'Paula Ormaechea', 'Nina Potocnik', 'Tamira Paszek', 'Jaqueline Adina Cristian', 'Kateryna Bondarenko', 'Su Wei Hsieh', 'Bianca Turati', 'Johanna Konta', 'Destanee Aiava', 'Polona Hercog', 'Mayo Hibi', 'Timea Babos', 'Tsvetana Pironkova', 'Aliona Bolsova', 'Vera Lapko', 'Nina Stojanovic', 'Venus Williams', 'Mona Barthel', 'Jennifer Brady', 'Bethanie Mattek Sands', 'Svetlana Kuznetsova', 'Zarina Diyas', 'Olivia Gadecki', 'Patricia Maria Tig', 'Gabriella Da Silva Fick', 'Varvara Lepchenko', 'Francesca Jones', 'Margarita Gasparyan', 'Leonie Kung', 'Saisai Zheng', 'Lara Arruabarrena', 'Yafan Wang', 'Giulia Gatto Monticone', 'Kurumi Nara', 'Francesca Di Lorenzo', 'Christina Mchale', 'Kiki Bertens', 'Yaroslava Shvedova', 'Martina Di Giuseppe', 'Elena Vesnina', 'Georgina Garcia Perez', 'Kristie Ahn', 'Marina Melnikova', 'Lizette Cabrera', 'Arina Rodionova', 'Tara Moore', 'Kristyna Pliskova', 'Anna Zaja', 'Ivana Jorovic', 'Natalia Vikhlyantseva', 'Grace Min', 'Rebecca Sramkova', 'En Shuo Liang', 'Tereza Smitkova', 'Amina Anshba', 'Weronika Falkowska', 'Carla Suarez Navarro', 'Seone Mendez', 'Alexandra Eala', 'Francoise Abanda', 'Nagi Hanatani', 'Rebeka Masarova', 'Valentini Grammatikopoulou', 'Jana Fett', 'Caroline Wozniacki', 'Julia Goerges', 'Barbora Strycova', 'Shuai Peng', 'Catherine Cartan Bellis', 'Peangtarn Plipuech', 'Xiaodi You', 'Barbara Haas', 'Olga Govortsova', 'Katrina Scott', 'Sachia Vickery', 'Emiliana Arango', 'Veronica Cepede Royg', 'Lara Escauriza', 'Victoria Bosio', 'Andrea Gamiz', 'Priska Madelyn Nugroho', 'Ya Yi Yang', 'Sabina Sharipova', 'Lea Boskovic', 'Elena Malygina', 'Eleonora Molinaro', 'Johanna Larsson', 'Berfu Cengiz', 'Valentina Ivanov', 'Emily Fanning', 'Paige Mary Hourigan', 'Erdenesuren Erdenebat', 'Ushna Suhail', 'Hx Izabella Tan', 'Jargal Altansarnai', 'Anna Clarice Patrimonio', 'Marian Jade Capadocia', 'Shaira Hope Rivera', 'Tamachan Momkoonthod', 'Watsachol Sawasdee', 'Anchisa Chanta', 'Chompoothip Jandakate', 'Katrina Lai', 'Nadine Del Carmen', 'Sarah Pang', 'Mariam Bolkvadze', 'Shelly Bereznyak', 'Chiraz Bechri', 'Sandra Samir', 'Anastasia Kulikova', 'Karen Barbat', 'Oona Orpana', 'Francisca Jorge', 'Monica Puig', 'Denisa Allertova', 'Monica Niculescu', 'Antonia Lottner', 'Zoe Hives', 'Varvara Flink', 'Xinyun Han', 'Amandine Hesse', 'Gabriela Ce', 'Fanny Stollar', 'Dominika Cibulkova', 'Allie Kiick', 'Pauline Parmentier', 'Bibiane Schoofs', 'Timea Bacsinszky', 'Greta Arn', 'Magdalena Rybarikova', 'Nicole Gibbs', 'Maria Sharapova', 'Laura Ioana Andrei', 'Jessika Ponchet', 'Fangzhou Liu', 'Jaimee Fourlis', 'Maia Lumsden', 'Jana Cepelova', 'Ying Ying Duan', 'Diana Marcinkevica', 'Valentyna Ivakhnenko', 'Whitney Osuigwe', 'Charlotte Roemer', 'Montserrat Gonzalez', 'Fernanda Brito', 'Catalina Pella', 'Alexa Guarachi', 'Nudnida Luangnam', 'Zhaoxuan Yang', 'Beatrice Gumulya', 'Na Ri Kim', 'Valeria Gorlats', 'Cagla Buyukakcay', 'Adrienn Nagy', 'Paola Cortez Vargas', 'Noelia Zeballos', 'Anastasia Iamachkine', 'Dana Guzman', 'Danielle Andrea Thompson', 'Kerrie Cartwright', 'Breana Stampfli', 'Yolande Leacock', 'Gabriela Cortes Flores', 'Zulay Castaneda', 'Karen Esther Contreras', 'Ana Carmen Zamburek', 'Kelly Williford', 'Guillermina Grant', 'Yoryana Delgado Herrera', 'Melisa Morales', 'Kirsten Andrea Weedon', 'Aymet Uzcategui', 'Melanie Klaffner', 'Chanel Simmonds', 'Ana Filipa Santos', 'Luksika Kumkhum', 'Lucie Safarova', 'Kate Makarova', 'Ashley Kratzer', 'Elitsa Kostova', 'Agnieszka Radwanska', 'Carina Witthoeft', 'Alexandra Dulgheru', 'Deniz Khazaniuk', 'Ana Sofia Sanchez', 'Naomi Broady', 'Yuxuan Zhang', 'Eri Hozumi', 'Fang Ying Xun', 'Jing Jing Lu', 'Irina Falconi', 'Roberta Vinci', 'Patty Schnyder', 'Conny Perrin', 'Kai Chen Chang', 'Kathinka Von Deichmann', 'Mariana Duque Marino', 'Vania King', 'Julia Glushko', 'Mirjana Lucic', 'Olivia Rogowska', 'Ellen Perez', 'Sofya Zhuk', 'Nathaly Kurata', 'Stephanie Mariel Petit', 'Ling Zhang', 'Sunam Jeong', 'Miyu Kato', 'Pei Chi Lee', 'Eudice Wong Chong', 'Dejana Radanovic', 'Cornelia Lister', 'Saara Orav', 'Tena Lukas', 'Sofia Shapatava', 'Gabrielle Leslie', 'Francesca Segarelli', 'Maria Jose Portillo Ramirez', 'Fernanda Secinaro', 'Yusleydis Smith Dias', 'Isid Hernandez', 'Florencia Rossi', 'Daniela Obando', 'Ariana Rahmanparast', 'Camila Romero', 'Daniela Alejandra La Fuente Strassburger', 'Sofia Perez', 'Katherine Westbury', 'Jade Lewis', 'Yasmina Karimjanova', 'Nigina Abduraimova', 'Ksenia Palkina', 'Charmaine Shi Yi Seah', 'Stefanie Tan', 'Theiviya Selvarajoo', 'Suhana Sofia Mohd Adam Das', 'Fatma Al Nabhani', 'Steffi Carruthers', 'Abigail Tere Apisah', 'Shahrzad Banisaeid', 'Carol Young Suh Lee', 'Sara Mansoor', 'Sarah Mahboob Khan', 'Savini Jayasuriya', 'Nethmi Himashi Waduge', 'Mahin Qureshi', 'Anika Seneviratne', 'Erin Routliffe', 'Khim Iglupas', 'Saara Kunakunova', 'Jelena Simic', 'Dea Herdzelas', 'Astrid Wanja Brune Olsen', 'Deborah Chiesa', 'Nadiya Kichenok', 'Ena Shibahara', 'Robin Anderson', 'Emina Bektas', 'Brenda Fruhvirtova', 'Elvina Kalieva', 'Robin Montgomery', 'Ashlyn Krueger', 'Nastasja Schunk', 'Ylena In Albon', 'Yuliana Monroy', 'Sophie Chang', 'Nikola Bartunkova', 'Anna Danilina', 'Tessah Andrianjafitrimo', 'Cristiana Ferrando', 'Ekaterina Reyngold', 'Irene Burillo Escorihuela', 'Carole Monnet', 'Yana Morderger', 'Angelina Gabueva', 'Katharina Hobgarski', 'Julie Gervais', 'Eden Silva', 'Sonay Kartal', 'Taylah Preston', 'Jamie Loeb', 'Anastasia Tikhonova', 'Yuliya Hatouka', 'Marina Bassols Ribera', 'Jesika Maleckova', 'Natalia Szabanin', 'Barbora Palicova', 'Anastasia Zakharova', 'Raluka Serban', 'Martyna Kubka', 'Kayla Day', 'Dalayna Hewitt', 'Peyton Stearns', 'Iryna Shymanovich', 'Kayla Cross', 'Victoria Mboko', 'Himeno Sakatsume', 'Eleana Yu', 'Sara Bejlek', 'Kyoka Okamura', 'Olivia Tjandramulia', 'Mariia Tkacheva', 'Tara Wurth', 'Boyoung Jeong', 'Sohyun Park', 'Dayeon Back', 'Rina Saigo', 'Mirra Andreeva', 'Yasmine Mansouri', 'Valeska Alexandra San Martin Ramirez', 'Tania Isabel Andrade Sabando', 'Paulina Franco Martinessi', 'Susan Doldan', 'Heydi Doldan', 'Fadona Titalyana Kusumawati', 'Dabin Kim', 'Rebecca Munk Mortensen', 'Katriin Saar', 'Ayla Aksu', 'Nino Natsvlishvili', 'Tamari Gagoshidze', 'Julita Saner', 'Lara Smejkal', 'Stella Remander', 'Ella Haavisto', 'Venla Ahti', 'Daniela Vismane', 'Natalija Stevanovic', 'Darja Semenistaja', 'Andreea Prisacariu', 'Lucie Hradecka', 'Valeria Savinykh', 'Gabriela Dabrowski', 'Oksana Kalashnikova', 'Daria Mironova', 'Usue Maitane Arconada', 'Jessica Plazas', 'Desirae Krawczyk', 'Tereza Mrdeza', 'Julia Middendorf', 'Lisa Pigato', 'Andrea Lazaro Garcia', 'Oceane Babel', 'Sarah Beth Grey', 'Katarzyna Piter', 'Mara Guth', 'Ekaterina Yashina', 'Samantha Murray', 'Danielle Lao', 'Tess Sugnaux', 'Urszula Radwanska', 'Naiktha Bains', 'Weronika Baszak', 'Federica Di Sarra', 'Valeriya Olyanovskaya', 'Katharina Gerlach', 'Nuria Brancaccio', 'Briana Szabo', 'Quinn Gleason', 'Maria Mateas', 'Alexa Glatch', 'Nika Radisic', 'Kim Clijsters', 'Zhibek Kulambayeva', 'Jessica Pieri', 'Stephanie Wagner', 'Martina Caregaro', 'Chihiro Muramatsu', 'Patcharin Cheapchandej', 'Anastasiya Komardina', 'Irina Khromacheva', 'Myrtille Georges', 'Mary Victoria Cancini', 'Daianne Hayashida', 'Romina Ccuno', 'Camila Soares', 'Janice Tjen', 'Akgul Amanmuradova', 'Setora Normurodova', 'Mira Antonitsch', 'Dimitra Pavlou', 'Laura Correia', 'Tiffany Cornelius', 'Basak Eraydin', 'Bolor Enkhbayar', 'Tammy Tan', 'Rozhan Karajayeva', 'Arzuv Klycheva', 'Bahar Toymyradova', 'Shinejargal Battur', 'Iana Tishchenko', 'Anastasia Vdovenco', 'Vlada Ekshibarova', 'Daniela Ciobanu', 'Ines Murta', 'Maria Ines Fonte', 'Teliana Pereira', 'Ayano Shimizu', 'Junri Namigata', 'Risa Ozaki', 'Marie Benoit', 'Hiroko Kuwata', 'Ji Hee Choi', 'Victoria Rodriguez', 'Shilin Xu', 'Silvia Soler Espinosa', 'Alison Bai', 'Quirine Lemoine', 'Shuyue Ma', 'Xinyu Gao', 'Jia Jing Lu', 'Meiling Wang', 'Anna Tatishvili', 'Selena Janicijevic', 'Audrey Albie', 'Richel Hogenkamp', 'Mari Osaka', 'Lauren Anzalotta Kynoch', 'Maria Cecilia Aguiar', 'Erika Barquero', 'Mananchaya Sawangkaew', 'Violet Apisah', 'Mahak Jain', 'Hannah Viller Moller', 'Ipek Soylu', 'Maria Fernanda Alvarez Teran', 'Melena Lopez', 'Tangia Riley Codrington', 'Anya King', 'Chloe Weekes', 'Anneliese Rose', 'Lucia De Santa Ana', 'Ana Julissa De Mata', 'Laura Lissette Quezada Martinez', 'Nika Mykolayivna Khmolovska De Saladin', 'Anita Husaric', 'Darya Shvartsmann', 'Maya Tahan', 'Madrie Le Roux', 'Theresa Alison Van Zyl', 'Zani Barnard', 'Camilla Rosatello', 'Victoria Duval', 'Sesil Karatantcheva', 'Bojana Jovanovski', 'Diae El Jardi', 'Hanyu Guo', 'Jacqueline Cako', 'Wushuang Zheng', 'Momoko Kobori', 'Miriam Bianca Bulgaru', 'Andreea Amalia Rosca', 'Gabriella Taylor', 'Francesca Schiavone', 'Ya Hsuan Lee', 'Isabelle Wallace', 'Katy Dunne', 'Barbora Stefkova', 'Misa Eguchi', 'Andrea Hlavackova', 'Daniela Schippers', 'Juliana Valero', 'Maria Paulina Perez Garcia', 'Ho Ching Wu', 'Kwan Yau Ng', 'Nicha Lertpitaksinchai', 'Ching Wen Hsu', 'Chieh Yu Hsu', 'So Ra Lee', 'Maria Joao Koehler', 'Pia Konig', 'Petia Arshinkova', 'Ana Biskic', 'Hannah Chambers', 'Isabella Tiscornia', 'Eugenia Camacho', 'Natalie Gabriela Espinal Sanchez', 'Shelby Madeiros', 'Ashley Brooks', 'Carlista Mohammed', 'Nancy Karaky', 'Hoda Habib', 'Katharina Lehnert', 'Kimia Rahmani', 'Sarah Al Balushi', 'Kimiya Asbaghipour', 'Sara Azaddoost', 'Maryam Al Balushi', 'Maya Bseisu', 'Nazli Nader Redha', 'Safa Safar', 'Aisha Al Suleimani', 'Yara Fayssal', 'Lamis Alhussein Abdel Aziz', 'Dona Abo Habaga', 'Nicole Nadel', 'Lyudmyla Kichenok']\n",
            "lefties : ['Misaki Doi', 'Leylah Fernandez', 'Marketa Vondrousova', 'Petra Kvitova', 'Bernarda Pera', 'Xiyu Wang', 'Jil Teichmann', 'Martina Trevisan', 'Beatriz Haddad Maia', 'Arantxa Rus', 'Angelique Kerber', 'Ekaterine Gorgodze', 'Olga Danilovic', 'Mihaela Buzarnescu', 'Maja Chwalinska', 'Oksana Selekhmeteva', 'Gabriela Lee', 'Taylor Townsend', 'Victoria Jimenez Kasintseva', 'Na Lae Han', 'Ysaline Bonaventure', 'Storm Sanders', 'Maria Fernanda Herazo Gonzalez', 'Mell Elizabeth Reasco Gonzalez', 'Varvara Lepchenko', 'Francesca Di Lorenzo', 'Kristyna Pliskova', 'Amina Anshba', 'Alexandra Eala', 'Ya Yi Yang', 'Tamachan Momkoonthod', 'Watsachol Sawasdee', 'Anchisa Chanta', 'Mariam Bolkvadze', 'Anastasia Kulikova', 'Xinyun Han', 'Gabriela Ce', 'Kelly Williford', 'Chanel Simmonds', 'Lucie Safarova', 'Kate Makarova', 'Ashley Kratzer', 'Ana Sofia Sanchez', 'Patty Schnyder', 'Ellen Perez', 'Yasmina Karimjanova', 'Robin Montgomery', 'Carole Monnet', 'Natalia Szabanin', 'Kayla Day', 'Kayla Cross', 'Sara Bejlek', 'Oksana Kalashnikova', 'Desirae Krawczyk', 'Sarah Beth Grey', 'Chihiro Muramatsu', 'Anastasiya Komardina', 'Irina Khromacheva', 'Marie Benoit', 'Quirine Lemoine', 'Isabelle Wallace', 'Chieh Yu Hsu', 'So Ra Lee'] \n",
            " 63\n",
            "righties : ['Ashleigh Barty', 'Elena Rybakina', 'Iga Swiatek', 'Sofia Kenin', 'Victoria Azarenka', 'Shelby Rogers', 'Kaja Juvan', 'Cori Gauff', 'Ajla Tomljanovic', 'Priscilla Hon', 'Marie Bouzkova', 'Maria Sakkari', 'Anastasia Gasanova', 'Veronika Kudermetova', 'Simona Halep', 'Naomi Osaka', 'Qinwen Zheng', 'Andrea Petkovic', 'Anastasia Potapova', 'Ana Konjuh', 'Viktorija Golubic', 'Maryna Zanevska', 'Clara Burel', 'Madison Brengle', 'Anna Bondar', 'Kaia Kanepi', 'Vera Zvonareva', 'Lesley Pattinama Kerkhove', 'Elena Gabriela Ruse', 'Amanda Anisimova', 'Aliaksandra Sasnovich', 'Daria Kasatkina', 'Ann Li', 'Irina Camelia Begu', 'Nuria Parrizas Diaz', 'Kamilla Rakhimova', 'Clara Tauson', 'Jasmine Paolini', 'Sorana Cirstea', 'Madison Keys', 'Claire Liu', 'Anastasija Sevastova', 'Sara Sorribes Tormo', 'Lin Zhu', 'Rebecca Peterson', 'Alison Riske Amritraj', 'Tamara Zidansek', 'Lauren Davis', 'Liudmila Samsonova', 'Anhelina Kalinina', 'Maddison Inglis', 'Marta Kostyuk', 'Tereza Martincova', 'Paula Badosa', 'Barbora Krejcikova', 'Anett Kontaveit', 'Caroline Garcia', 'Ons Jabeur', 'Belinda Bencic', 'Garbine Muguruza', 'Jaqueline Cristian', 'Oceane Dodin', 'Elise Mertens', 'Ekaterina Alexandrova', 'Lucia Bronzetti', 'Camila Giorgi', 'Jessica Pegula', 'Jelena Ostapenko', 'Harmony Tan', 'Elina Svitolina', 'Alison Van Uytvanck', 'Qiang Wang', 'Danielle Collins', 'Shuai Zhang', 'Danka Kovinic', 'Emma Raducanu', 'Heather Watson', 'Alize Cornet', 'Magda Linette', 'Kristina Kucova', 'Samantha Stosur', 'Anastasia Pavlyuchenkova', 'Hailey Baptiste', 'Xin Yu Wang', 'Aryna Sabalenka', 'Petra Martic', 'Dayana Yastremska', 'Varvara Gracheva', 'Sloane Stephens', 'Anna Kalinskaya', 'Daria Saville', 'Camila Osorio', 'Anna Karolina Schmiedlova', 'Caroline Dolehide', 'Chloe Paquet', 'Magdalena Frech', 'Vitalia Diatchenko', 'Tamara Korpatsch', 'Cristina Bucsa', 'Katie Boulter', 'Stefanie Voegele', 'Viktoriya Tomova', 'Marcela Zacarias', 'Mayar Sherif', 'Harriet Dart', 'Katie Volynets', 'Katerina Siniakova', 'Astra Sharma', 'Yulia Putintseva', 'Linda Fruhvirtova', 'Karolina Muchova', 'Dalma Galfi', 'Tatjana Maria', 'Laura Pigossi', 'Elina Avanesyan', 'Mirjam Bjorklund', 'Irina Bara', 'Ipek Oz', 'Lucrezia Stefanini', 'Sara Errani', 'Yuliana Lizarazo', 'Suzan Lamens', 'Coco Vandeweghe', 'Karolina Pliskova', 'Emma Navarro', 'Katarina Zavatska', 'Ulrikke Eikeri', 'Julia Grabher', 'Lesia Tsurenko', 'Ana Bogdan', 'Laura Siegemund', 'Eva Lys', 'Bianca Andreescu', 'Kristina Mladenovic', 'Petra Marcinko', 'Anna Lena Friedsam', 'Nefisa Berberovic', 'Fiona Ferro', 'Ekaterina Makarova', 'Leolia Jeanjean', 'Aleksandra Krunic', 'Fernanda Contreras Gomez', 'Elsa Jacquemot', 'Donna Vekic', 'Diane Parry', 'Rebecca Marino', 'Yuriko Miyazaki', 'Jodie Burrage', 'Kirsten Flipkens', 'Caty Mcnally', 'Arianne Hartono', 'Anna Blinkova', 'Alycia Parks', 'Sabine Lisicki', 'Jule Niemeier', 'Katie Swan', 'Greet Minnen', 'Catherine Harrison', 'Panna Udvardy', 'Mai Hontama', 'Katarzyna Kawa', 'Elisabetta Cocciaretto', 'Yanina Wickmayer', 'Despina Papamichail', 'Kateryna Baindl', 'Simona Waltert', 'Erika Andreeva', 'Susan Bandecchi', 'Maria Carle', 'Alexandra Cadantu Ignatik', 'Joanne Zuger', 'Linda Noskova', 'Nao Hibino', 'Lucie Havlickova', 'Dalila Jakupovic', 'Dominika Salkova', 'Nadia Podoroska', 'Elizabeth Mandlik', 'Serena Williams', 'Asia Muhammad', 'Marina Stakusic', 'Cadence Brace', 'Katherine Sebov', 'Yue Yuan', 'Daria Snigur', 'Viktoria Kuzmova', 'Evgeniya Rodina', 'Eugenie Bouchard', 'Karman Thandi', 'Carol Zhao', 'Lulu Sun', 'Kimberly Birrell', 'Ankita Raina', 'Matilde Paoletti', 'Moyuka Uchijima', 'Louisa Chirico', 'Solana Sierra', 'Jazmin Ortenzi', 'Carolina Alves', 'Barbara Gatica', 'Daniela Seguel', 'Renata Zarazua', 'Giuliana Olmos', 'Fernanda Labrana', 'Leyla Fiorella Britez Risso', 'Maria Gabriela Rivera Corado', 'Vivian Yang', 'Aldila Sutjiadi', 'Rutuja Bhosale', 'Yuki Naito', 'Su Jeong Jang', 'Riya Bhatia', 'Maileen Nuudi', 'Sofia Nami Samavati', 'Reka Luca Jani', 'Johanne Christine Svendsen', 'Lola Radivojevic', 'Pemra Ozgen', 'Sinja Kraus', 'Julia Terziyska', 'Pia Lovric', 'Caijsa Wilda Hennemann', 'Isabella Shinikova', 'Jacqueline Cabaj Awad', 'Kajsa Rinaldo Persson', 'Ziva Falkner', 'Zoziya Kardava', 'Malene Helgo', 'Michaela Laki', 'Nicole Khirin', 'Shavit Kimchi', 'Andre Lukosiute', 'Justina Mikulskyte', 'Marie Weckerle', 'Mandy Minella', 'Lina Glushko', 'Martha Matoula', 'Paula Ormaechea', 'Nina Potocnik', 'Tamira Paszek', 'Jaqueline Adina Cristian', 'Kateryna Bondarenko', 'Su Wei Hsieh', 'Bianca Turati', 'Johanna Konta', 'Destanee Aiava', 'Polona Hercog', 'Mayo Hibi', 'Timea Babos', 'Tsvetana Pironkova', 'Aliona Bolsova', 'Vera Lapko', 'Nina Stojanovic', 'Venus Williams', 'Mona Barthel', 'Jennifer Brady', 'Bethanie Mattek Sands', 'Svetlana Kuznetsova', 'Zarina Diyas', 'Olivia Gadecki', 'Patricia Maria Tig', 'Gabriella Da Silva Fick', 'Francesca Jones', 'Margarita Gasparyan', 'Leonie Kung', 'Saisai Zheng', 'Lara Arruabarrena', 'Yafan Wang', 'Giulia Gatto Monticone', 'Kurumi Nara', 'Christina Mchale', 'Kiki Bertens', 'Yaroslava Shvedova', 'Martina Di Giuseppe', 'Elena Vesnina', 'Georgina Garcia Perez', 'Kristie Ahn', 'Marina Melnikova', 'Lizette Cabrera', 'Arina Rodionova', 'Tara Moore', 'Anna Zaja', 'Ivana Jorovic', 'Natalia Vikhlyantseva', 'Grace Min', 'Rebecca Sramkova', 'En Shuo Liang', 'Tereza Smitkova', 'Weronika Falkowska', 'Carla Suarez Navarro', 'Seone Mendez', 'Francoise Abanda', 'Nagi Hanatani', 'Rebeka Masarova', 'Valentini Grammatikopoulou', 'Jana Fett', 'Caroline Wozniacki', 'Julia Goerges', 'Barbora Strycova', 'Shuai Peng', 'Catherine Cartan Bellis', 'Peangtarn Plipuech', 'Xiaodi You', 'Barbara Haas', 'Olga Govortsova', 'Katrina Scott', 'Sachia Vickery', 'Emiliana Arango', 'Veronica Cepede Royg', 'Lara Escauriza', 'Victoria Bosio', 'Andrea Gamiz', 'Priska Madelyn Nugroho', 'Sabina Sharipova', 'Lea Boskovic', 'Elena Malygina', 'Eleonora Molinaro', 'Johanna Larsson', 'Berfu Cengiz', 'Valentina Ivanov', 'Emily Fanning', 'Paige Mary Hourigan', 'Erdenesuren Erdenebat', 'Ushna Suhail', 'Hx Izabella Tan', 'Jargal Altansarnai', 'Anna Clarice Patrimonio', 'Marian Jade Capadocia', 'Shaira Hope Rivera', 'Chompoothip Jandakate', 'Katrina Lai', 'Nadine Del Carmen', 'Sarah Pang', 'Shelly Bereznyak', 'Chiraz Bechri', 'Sandra Samir', 'Karen Barbat', 'Oona Orpana', 'Francisca Jorge', 'Monica Puig', 'Denisa Allertova', 'Monica Niculescu', 'Antonia Lottner', 'Zoe Hives', 'Varvara Flink', 'Amandine Hesse', 'Fanny Stollar', 'Dominika Cibulkova', 'Allie Kiick', 'Pauline Parmentier', 'Bibiane Schoofs', 'Timea Bacsinszky', 'Greta Arn', 'Magdalena Rybarikova', 'Nicole Gibbs', 'Maria Sharapova', 'Laura Ioana Andrei', 'Jessika Ponchet', 'Fangzhou Liu', 'Jaimee Fourlis', 'Maia Lumsden', 'Jana Cepelova', 'Ying Ying Duan', 'Diana Marcinkevica', 'Valentyna Ivakhnenko', 'Whitney Osuigwe', 'Charlotte Roemer', 'Montserrat Gonzalez', 'Fernanda Brito', 'Catalina Pella', 'Alexa Guarachi', 'Nudnida Luangnam', 'Zhaoxuan Yang', 'Beatrice Gumulya', 'Na Ri Kim', 'Valeria Gorlats', 'Cagla Buyukakcay', 'Adrienn Nagy', 'Paola Cortez Vargas', 'Noelia Zeballos', 'Anastasia Iamachkine', 'Dana Guzman', 'Danielle Andrea Thompson', 'Kerrie Cartwright', 'Breana Stampfli', 'Yolande Leacock', 'Gabriela Cortes Flores', 'Zulay Castaneda', 'Karen Esther Contreras', 'Ana Carmen Zamburek', 'Guillermina Grant', 'Yoryana Delgado Herrera', 'Melisa Morales', 'Kirsten Andrea Weedon', 'Aymet Uzcategui', 'Melanie Klaffner', 'Ana Filipa Santos', 'Luksika Kumkhum', 'Elitsa Kostova', 'Agnieszka Radwanska', 'Carina Witthoeft', 'Alexandra Dulgheru', 'Deniz Khazaniuk', 'Naomi Broady', 'Yuxuan Zhang', 'Eri Hozumi', 'Fang Ying Xun', 'Jing Jing Lu', 'Irina Falconi', 'Roberta Vinci', 'Conny Perrin', 'Kai Chen Chang', 'Kathinka Von Deichmann', 'Mariana Duque Marino', 'Vania King', 'Julia Glushko', 'Mirjana Lucic', 'Olivia Rogowska', 'Sofya Zhuk', 'Nathaly Kurata', 'Stephanie Mariel Petit', 'Ling Zhang', 'Sunam Jeong', 'Miyu Kato', 'Pei Chi Lee', 'Eudice Wong Chong', 'Dejana Radanovic', 'Cornelia Lister', 'Saara Orav', 'Tena Lukas', 'Sofia Shapatava', 'Gabrielle Leslie', 'Francesca Segarelli', 'Maria Jose Portillo Ramirez', 'Fernanda Secinaro', 'Yusleydis Smith Dias', 'Isid Hernandez', 'Florencia Rossi', 'Daniela Obando', 'Ariana Rahmanparast', 'Camila Romero', 'Daniela Alejandra La Fuente Strassburger', 'Sofia Perez', 'Katherine Westbury', 'Jade Lewis', 'Nigina Abduraimova', 'Ksenia Palkina', 'Charmaine Shi Yi Seah', 'Stefanie Tan', 'Theiviya Selvarajoo', 'Suhana Sofia Mohd Adam Das', 'Fatma Al Nabhani', 'Steffi Carruthers', 'Abigail Tere Apisah', 'Shahrzad Banisaeid', 'Carol Young Suh Lee', 'Sara Mansoor', 'Sarah Mahboob Khan', 'Savini Jayasuriya', 'Nethmi Himashi Waduge', 'Mahin Qureshi', 'Anika Seneviratne', 'Erin Routliffe', 'Khim Iglupas', 'Saara Kunakunova', 'Jelena Simic', 'Dea Herdzelas', 'Astrid Wanja Brune Olsen', 'Deborah Chiesa', 'Nadiya Kichenok', 'Ena Shibahara', 'Robin Anderson', 'Emina Bektas', 'Brenda Fruhvirtova', 'Elvina Kalieva', 'Ashlyn Krueger', 'Nastasja Schunk', 'Ylena In Albon', 'Yuliana Monroy', 'Sophie Chang', 'Nikola Bartunkova', 'Anna Danilina', 'Tessah Andrianjafitrimo', 'Cristiana Ferrando', 'Ekaterina Reyngold', 'Irene Burillo Escorihuela', 'Yana Morderger', 'Angelina Gabueva', 'Katharina Hobgarski', 'Julie Gervais', 'Eden Silva', 'Sonay Kartal', 'Taylah Preston', 'Jamie Loeb', 'Anastasia Tikhonova', 'Yuliya Hatouka', 'Marina Bassols Ribera', 'Jesika Maleckova', 'Barbora Palicova', 'Anastasia Zakharova', 'Raluka Serban', 'Martyna Kubka', 'Dalayna Hewitt', 'Peyton Stearns', 'Iryna Shymanovich', 'Victoria Mboko', 'Himeno Sakatsume', 'Eleana Yu', 'Kyoka Okamura', 'Olivia Tjandramulia', 'Mariia Tkacheva', 'Tara Wurth', 'Boyoung Jeong', 'Sohyun Park', 'Dayeon Back', 'Rina Saigo', 'Mirra Andreeva', 'Yasmine Mansouri', 'Valeska Alexandra San Martin Ramirez', 'Tania Isabel Andrade Sabando', 'Paulina Franco Martinessi', 'Susan Doldan', 'Heydi Doldan', 'Fadona Titalyana Kusumawati', 'Dabin Kim', 'Rebecca Munk Mortensen', 'Katriin Saar', 'Ayla Aksu', 'Nino Natsvlishvili', 'Tamari Gagoshidze', 'Julita Saner', 'Lara Smejkal', 'Stella Remander', 'Ella Haavisto', 'Venla Ahti', 'Daniela Vismane', 'Natalija Stevanovic', 'Darja Semenistaja', 'Andreea Prisacariu', 'Lucie Hradecka', 'Valeria Savinykh', 'Gabriela Dabrowski', 'Daria Mironova', 'Usue Maitane Arconada', 'Jessica Plazas', 'Tereza Mrdeza', 'Julia Middendorf', 'Lisa Pigato', 'Andrea Lazaro Garcia', 'Oceane Babel', 'Katarzyna Piter', 'Mara Guth', 'Ekaterina Yashina', 'Samantha Murray', 'Danielle Lao', 'Tess Sugnaux', 'Urszula Radwanska', 'Naiktha Bains', 'Weronika Baszak', 'Federica Di Sarra', 'Valeriya Olyanovskaya', 'Katharina Gerlach', 'Nuria Brancaccio', 'Briana Szabo', 'Quinn Gleason', 'Maria Mateas', 'Alexa Glatch', 'Nika Radisic', 'Kim Clijsters', 'Zhibek Kulambayeva', 'Jessica Pieri', 'Stephanie Wagner', 'Martina Caregaro', 'Patcharin Cheapchandej', 'Myrtille Georges', 'Mary Victoria Cancini', 'Daianne Hayashida', 'Romina Ccuno', 'Camila Soares', 'Janice Tjen', 'Akgul Amanmuradova', 'Setora Normurodova', 'Mira Antonitsch', 'Dimitra Pavlou', 'Laura Correia', 'Tiffany Cornelius', 'Basak Eraydin', 'Bolor Enkhbayar', 'Tammy Tan', 'Rozhan Karajayeva', 'Arzuv Klycheva', 'Bahar Toymyradova', 'Shinejargal Battur', 'Iana Tishchenko', 'Anastasia Vdovenco', 'Vlada Ekshibarova', 'Daniela Ciobanu', 'Ines Murta', 'Maria Ines Fonte', 'Teliana Pereira', 'Ayano Shimizu', 'Junri Namigata', 'Risa Ozaki', 'Hiroko Kuwata', 'Ji Hee Choi', 'Victoria Rodriguez', 'Shilin Xu', 'Silvia Soler Espinosa', 'Alison Bai', 'Shuyue Ma', 'Xinyu Gao', 'Jia Jing Lu', 'Meiling Wang', 'Anna Tatishvili', 'Selena Janicijevic', 'Audrey Albie', 'Richel Hogenkamp', 'Mari Osaka', 'Lauren Anzalotta Kynoch', 'Maria Cecilia Aguiar', 'Erika Barquero', 'Mananchaya Sawangkaew', 'Violet Apisah', 'Mahak Jain', 'Hannah Viller Moller', 'Ipek Soylu', 'Maria Fernanda Alvarez Teran', 'Melena Lopez', 'Tangia Riley Codrington', 'Anya King', 'Chloe Weekes', 'Anneliese Rose', 'Lucia De Santa Ana', 'Ana Julissa De Mata', 'Laura Lissette Quezada Martinez', 'Nika Mykolayivna Khmolovska De Saladin', 'Anita Husaric', 'Darya Shvartsmann', 'Maya Tahan', 'Madrie Le Roux', 'Theresa Alison Van Zyl', 'Zani Barnard', 'Camilla Rosatello', 'Victoria Duval', 'Sesil Karatantcheva', 'Bojana Jovanovski', 'Diae El Jardi', 'Hanyu Guo', 'Jacqueline Cako', 'Wushuang Zheng', 'Momoko Kobori', 'Miriam Bianca Bulgaru', 'Andreea Amalia Rosca', 'Gabriella Taylor', 'Francesca Schiavone', 'Ya Hsuan Lee', 'Katy Dunne', 'Barbora Stefkova', 'Misa Eguchi', 'Andrea Hlavackova', 'Daniela Schippers', 'Juliana Valero', 'Maria Paulina Perez Garcia', 'Ho Ching Wu', 'Kwan Yau Ng', 'Nicha Lertpitaksinchai', 'Ching Wen Hsu', 'Maria Joao Koehler', 'Pia Konig', 'Petia Arshinkova', 'Ana Biskic', 'Hannah Chambers', 'Isabella Tiscornia', 'Eugenia Camacho', 'Natalie Gabriela Espinal Sanchez', 'Shelby Madeiros', 'Ashley Brooks', 'Carlista Mohammed', 'Nancy Karaky', 'Hoda Habib', 'Katharina Lehnert', 'Kimia Rahmani', 'Sarah Al Balushi', 'Kimiya Asbaghipour', 'Sara Azaddoost', 'Maryam Al Balushi', 'Maya Bseisu', 'Nazli Nader Redha', 'Safa Safar', 'Aisha Al Suleimani', 'Yara Fayssal', 'Lamis Alhussein Abdel Aziz', 'Dona Abo Habaga', 'Nicole Nadel', 'Lyudmyla Kichenok'] \n",
            " 695\n"
          ]
        }
      ]
    },
    {
      "cell_type": "code",
      "source": [
        "num_r = len(righty)\n",
        "num_l = len(lefty)\n",
        "\n",
        "num_l/(num_r + num_l)"
      ],
      "metadata": {
        "colab": {
          "base_uri": "https://localhost:8080/"
        },
        "id": "5T2nUXGe0ERm",
        "outputId": "8720431e-49fb-432b-d8b2-015ca50ab72f"
      },
      "execution_count": 8,
      "outputs": [
        {
          "output_type": "execute_result",
          "data": {
            "text/plain": [
              "0.08311345646437995"
            ]
          },
          "metadata": {},
          "execution_count": 8
        }
      ]
    },
    {
      "cell_type": "code",
      "source": [
        "import matplotlib.pyplot as plt\n",
        "import seaborn as sns\n",
        "\n",
        "#define data\n",
        "data = [num_r, num_l]\n",
        "labels = ['Right Handed Players', 'Left Handed Players']\n",
        "\n",
        "#define Seaborn color palette to use\n",
        "colors = ['#FF8119', '#1997FF']\n",
        "\n",
        "style = 'poster'\n",
        "\n",
        "#create pie chart\n",
        "plt.pie(data, labels = labels, colors = colors, autopct='%.2f%%')\n",
        "\n",
        "plt.title(\"Handednes of WTA\\n\" + \"2018 - 2022\", bbox={'facecolor':'0.8', 'pad':4})\n",
        "\n",
        "plt.show()"
      ],
      "metadata": {
        "colab": {
          "base_uri": "https://localhost:8080/",
          "height": 449
        },
        "id": "OUh0YaWu3lP6",
        "outputId": "ab8d5c91-eecb-42ec-b305-d92958bcbe95"
      },
      "execution_count": 9,
      "outputs": [
        {
          "output_type": "display_data",
          "data": {
            "text/plain": [
              "<Figure size 640x480 with 1 Axes>"
            ],
            "image/png": "[encoded data removed]"
          },
          "metadata": {}
        }
      ]
    },
    {
      "cell_type": "code",
      "source": [
        "#@title Separating Into Rank\n",
        "\n",
        "# wta_final = wta_final.reset_index(drop = True)\n",
        "num1_condition_w = wta['winner_rank'] == 1\n",
        "num1_condition_l = wta['loser_rank'] == 1\n",
        "\n",
        "wta_top1_w = wta[num1_condition_w]\n",
        "wta_top1_w = wta_top1_w.reset_index(drop = True)\n",
        "\n",
        "wta_top1_l = wta[num1_condition_l]\n",
        "wta_top1_l = wta_top1_l.reset_index(drop = True)\n",
        "\n",
        "\n",
        "top10_condition_w = wta['winner_rank'] <= 10\n",
        "top10_condition_l = wta['loser_rank'] <= 10\n",
        "\n",
        "wta_top10_w = wta[top10_condition_w]\n",
        "wta_top10_w = wta_top10_w.reset_index(drop = True)\n",
        "\n",
        "wta_top10_l = wta[top10_condition_l]\n",
        "wta_top10_l = wta_top10_l.reset_index(drop = True)\n",
        "\n",
        "\n",
        "top50_condition_w = wta['winner_rank'] <= 50\n",
        "top50_condition_l = wta['loser_rank'] <= 50\n",
        "\n",
        "wta_top50_w = wta[top50_condition_w]\n",
        "wta_top50_w = wta_top50_w.reset_index(drop = True)\n",
        "\n",
        "wta_top50_l = wta[top50_condition_l]\n",
        "wta_top50_l = wta_top50_l.reset_index(drop = True)"
      ],
      "metadata": {
        "id": "EZROGGL20wYB"
      },
      "execution_count": 10,
      "outputs": []
    },
    {
      "cell_type": "code",
      "source": [
        "#@title NUM 1\n",
        "cnt = 0\n",
        "\n",
        "# list to hold visited values\n",
        "visited = []\n",
        "lefty = []\n",
        "righty = []\n",
        "\n",
        "# loop for counting the unique\n",
        "# values in height\n",
        "for i in range(0, len(wta_top1_w['winner_name'])):\n",
        "\n",
        "    if wta_top1_w['winner_name'][i] not in visited:\n",
        "\n",
        "        visited.append(wta_top1_w['winner_name'][i])\n",
        "\n",
        "        if wta_top1_w['winner_hand'][i] == 'L' :\n",
        "          lefty.append(wta_top1_w['winner_name'][i])\n",
        "        else :\n",
        "          righty.append(wta_top1_w['winner_name'][i])\n",
        "\n",
        "        cnt += 1\n",
        "\n",
        "# finds anyone who only lost a match\n",
        "for i in range(0, len(wta_top1_l['loser_name'])):\n",
        "\n",
        "    if wta_top1_l['loser_name'][i] not in visited:\n",
        "\n",
        "        visited.append(wta_top1_l['loser_name'][i])\n",
        "\n",
        "        if wta_top1_l['loser_hand'][i] == 'L' :\n",
        "          lefty.append(wta_top1_l['loser_name'][i])\n",
        "        else :\n",
        "          righty.append(wta_top1_l['loser_name'][i])\n",
        "\n",
        "        cnt += 1\n",
        "\n",
        "print(\"TOP 1 PLAYERS \\nNo.of.unique values :\",\n",
        "      cnt)\n",
        "\n",
        "print(\"unique values :\",\n",
        "      visited)\n",
        "\n",
        "print(\"lefties :\", lefty, '\\n', len(lefty))\n",
        "\n",
        "leftyno1 = len(lefty)\n",
        "\n",
        "print(\"righties :\", righty, '\\n', len(righty))\n",
        "\n",
        "rightyno1 = len(righty)"
      ],
      "metadata": {
        "colab": {
          "base_uri": "https://localhost:8080/"
        },
        "outputId": "488d3d28-8c6c-484a-e742-a8f9992d668d",
        "id": "oDbQRnUQ8JtQ"
      },
      "execution_count": 11,
      "outputs": [
        {
          "output_type": "stream",
          "name": "stdout",
          "text": [
            "TOP 1 PLAYERS \n",
            "No.of.unique values : 5\n",
            "unique values : ['Ashleigh Barty', 'Iga Swiatek', 'Naomi Osaka', 'Simona Halep', 'Caroline Wozniacki']\n",
            "lefties : [] \n",
            " 0\n",
            "righties : ['Ashleigh Barty', 'Iga Swiatek', 'Naomi Osaka', 'Simona Halep', 'Caroline Wozniacki'] \n",
            " 5\n"
          ]
        }
      ]
    },
    {
      "cell_type": "code",
      "source": [
        "#@title TOP 10\n",
        "cnt = 0\n",
        "\n",
        "# list to hold visited values\n",
        "visited = []\n",
        "lefty = []\n",
        "righty = []\n",
        "\n",
        "# loop for counting the unique\n",
        "# values in height\n",
        "for i in range(0, len(wta_top10_w['winner_name'])):\n",
        "\n",
        "    if wta_top10_w['winner_name'][i] not in visited:\n",
        "\n",
        "        visited.append(wta_top10_w['winner_name'][i])\n",
        "\n",
        "        if wta_top10_w['winner_hand'][i] == 'L' :\n",
        "          lefty.append(wta_top10_w['winner_name'][i])\n",
        "        else :\n",
        "          righty.append(wta_top10_w['winner_name'][i])\n",
        "\n",
        "        cnt += 1\n",
        "\n",
        "# finds anyone who only lost a match\n",
        "for i in range(0, len(wta_top10_l['loser_name'])):\n",
        "\n",
        "    if wta_top10_l['loser_name'][i] not in visited:\n",
        "\n",
        "        visited.append(wta_top10_l['loser_name'][i])\n",
        "\n",
        "        if wta_top10_l['loser_hand'][i] == 'L' :\n",
        "          lefty.append(wta_top10_l['loser_name'][i])\n",
        "        else :\n",
        "          righty.append(wta_top10_l['loser_name'][i])\n",
        "\n",
        "        cnt += 1\n",
        "\n",
        "print(\"TOP 10 PLAYERS \\nNo.of.unique values :\",\n",
        "      cnt)\n",
        "\n",
        "print(\"unique values :\",\n",
        "      visited)\n",
        "\n",
        "print(\"lefties :\", lefty, '\\n', len(lefty))\n",
        "\n",
        "leftyno10 = len(lefty)\n",
        "\n",
        "print(\"righties :\", righty, '\\n', len(righty))\n",
        "\n",
        "rightyno10 = len(righty)"
      ],
      "metadata": {
        "colab": {
          "base_uri": "https://localhost:8080/"
        },
        "outputId": "2ba4e2c8-22c3-4971-838f-b9fcd54891b3",
        "id": "YBGNvIx97q7V"
      },
      "execution_count": 12,
      "outputs": [
        {
          "output_type": "stream",
          "name": "stdout",
          "text": [
            "TOP 10 PLAYERS \n",
            "No.of.unique values : 35\n",
            "unique values : ['Ashleigh Barty', 'Iga Swiatek', 'Maria Sakkari', 'Paula Badosa', 'Barbora Krejcikova', 'Anett Kontaveit', 'Ons Jabeur', 'Garbine Muguruza', 'Aryna Sabalenka', 'Karolina Pliskova', 'Danielle Collins', 'Jessica Pegula', 'Emma Raducanu', 'Simona Halep', 'Daria Kasatkina', 'Cori Gauff', 'Caroline Garcia', 'Sofia Kenin', 'Elina Svitolina', 'Naomi Osaka', 'Petra Kvitova', 'Bianca Andreescu', 'Kiki Bertens', 'Serena Williams', 'Angelique Kerber', 'Belinda Bencic', 'Sloane Stephens', 'Caroline Wozniacki', 'Madison Keys', 'Julia Goerges', 'Jelena Ostapenko', 'Kristina Mladenovic', 'Venus Williams', 'Johanna Konta', 'Coco Vandeweghe']\n",
            "lefties : ['Petra Kvitova', 'Angelique Kerber'] \n",
            " 2\n",
            "righties : ['Ashleigh Barty', 'Iga Swiatek', 'Maria Sakkari', 'Paula Badosa', 'Barbora Krejcikova', 'Anett Kontaveit', 'Ons Jabeur', 'Garbine Muguruza', 'Aryna Sabalenka', 'Karolina Pliskova', 'Danielle Collins', 'Jessica Pegula', 'Emma Raducanu', 'Simona Halep', 'Daria Kasatkina', 'Cori Gauff', 'Caroline Garcia', 'Sofia Kenin', 'Elina Svitolina', 'Naomi Osaka', 'Bianca Andreescu', 'Kiki Bertens', 'Serena Williams', 'Belinda Bencic', 'Sloane Stephens', 'Caroline Wozniacki', 'Madison Keys', 'Julia Goerges', 'Jelena Ostapenko', 'Kristina Mladenovic', 'Venus Williams', 'Johanna Konta', 'Coco Vandeweghe'] \n",
            " 33\n"
          ]
        }
      ]
    },
    {
      "cell_type": "code",
      "source": [
        "#@title TOP 50\n",
        "cnt = 0\n",
        "\n",
        "# list to hold visited values\n",
        "visited = []\n",
        "lefty = []\n",
        "righty = []\n",
        "\n",
        "# loop for counting the unique\n",
        "# values in height\n",
        "for i in range(0, len(wta_top50_w['winner_name'])):\n",
        "\n",
        "    if wta_top50_w['winner_name'][i] not in visited:\n",
        "\n",
        "        visited.append(wta_top50_w['winner_name'][i])\n",
        "\n",
        "        if wta_top50_w['winner_hand'][i] == 'L' :\n",
        "          lefty.append(wta_top50_w['winner_name'][i])\n",
        "        else :\n",
        "          righty.append(wta_top50_w['winner_name'][i])\n",
        "\n",
        "        cnt += 1\n",
        "\n",
        "# finds anyone who only lost a match\n",
        "for i in range(0, len(wta_top50_l['loser_name'])):\n",
        "\n",
        "    if wta_top50_l['loser_name'][i] not in visited:\n",
        "\n",
        "        visited.append(wta_top50_l['loser_name'][i])\n",
        "\n",
        "        if wta_top50_l['loser_hand'][i] == 'L' :\n",
        "          lefty.append(wta_top50_l['loser_name'][i])\n",
        "        else :\n",
        "          righty.append(wta_top50_l['loser_name'][i])\n",
        "\n",
        "        cnt += 1\n",
        "\n",
        "print(\"TOP 50 PLAYERS \\nNo.of.unique values :\",\n",
        "      cnt)\n",
        "\n",
        "print(\"unique values :\",\n",
        "      visited)\n",
        "\n",
        "print(\"lefties :\", lefty, '\\n', len(lefty))\n",
        "\n",
        "leftyno50 = len(lefty)\n",
        "\n",
        "print(\"righties :\", righty, '\\n', len(righty))\n",
        "\n",
        "rightyno50 = len(righty)"
      ],
      "metadata": {
        "colab": {
          "base_uri": "https://localhost:8080/"
        },
        "outputId": "6d5370f4-f00a-44e4-8aa5-c8583ca90dfa",
        "id": "9ywTm3ay8cQm"
      },
      "execution_count": 13,
      "outputs": [
        {
          "output_type": "stream",
          "name": "stdout",
          "text": [
            "TOP 50 PLAYERS \n",
            "No.of.unique values : 126\n",
            "unique values : ['Ashleigh Barty', 'Elena Rybakina', 'Iga Swiatek', 'Sofia Kenin', 'Victoria Azarenka', 'Shelby Rogers', 'Cori Gauff', 'Ajla Tomljanovic', 'Leylah Fernandez', 'Maria Sakkari', 'Veronika Kudermetova', 'Simona Halep', 'Naomi Osaka', 'Viktorija Golubic', 'Daria Kasatkina', 'Ann Li', 'Clara Tauson', 'Sorana Cirstea', 'Sara Sorribes Tormo', 'Tamara Zidansek', 'Liudmila Samsonova', 'Marketa Vondrousova', 'Marta Kostyuk', 'Tereza Martincova', 'Paula Badosa', 'Barbora Krejcikova', 'Anett Kontaveit', 'Ons Jabeur', 'Belinda Bencic', 'Garbine Muguruza', 'Petra Kvitova', 'Elise Mertens', 'Ekaterina Alexandrova', 'Camila Giorgi', 'Jessica Pegula', 'Alison Riske Amritraj', 'Jelena Ostapenko', 'Jil Teichmann', 'Elina Svitolina', 'Danielle Collins', 'Emma Raducanu', 'Anastasia Pavlyuchenkova', 'Aryna Sabalenka', 'Alize Cornet', 'Amanda Anisimova', 'Camila Osorio', 'Jasmine Paolini', 'Madison Keys', 'Angelique Kerber', 'Anhelina Kalinina', 'Yulia Putintseva', 'Shuai Zhang', 'Sloane Stephens', 'Karolina Pliskova', 'Petra Martic', 'Aliaksandra Sasnovich', 'Nuria Parrizas Diaz', 'Mayar Sherif', 'Beatriz Haddad Maia', 'Kaia Kanepi', 'Alison Van Uytvanck', 'Irina Camelia Begu', 'Martina Trevisan', 'Caroline Garcia', 'Anna Bondar', 'Marie Bouzkova', 'Qinwen Zheng', 'Bianca Andreescu', 'Anastasia Potapova', 'Donna Vekic', 'Magda Linette', 'Katerina Siniakova', 'Ana Bogdan', 'Karolina Muchova', 'Johanna Konta', 'Polona Hercog', 'Serena Williams', 'Nadia Podoroska', 'Jennifer Brady', 'Svetlana Kuznetsova', 'Fiona Ferro', 'Qiang Wang', 'Saisai Zheng', 'Anastasija Sevastova', 'Kiki Bertens', 'Dayana Yastremska', 'Caroline Wozniacki', 'Julia Goerges', 'Barbora Strycova', 'Yafan Wang', 'Kristina Mladenovic', 'Rebecca Peterson', 'Su Wei Hsieh', 'Viktoria Kuzmova', 'Carla Suarez Navarro', 'Dominika Cibulkova', 'Lesia Tsurenko', 'Mihaela Buzarnescu', 'Kirsten Flipkens', 'Venus Williams', 'Maria Sharapova', 'Monica Puig', 'Pauline Parmentier', 'Daria Saville', 'Timea Babos', 'Magdalena Rybarikova', 'Kate Makarova', 'Catherine Cartan Bellis', 'Elena Vesnina', 'Aleksandra Krunic', 'Agnieszka Radwanska', 'Samantha Stosur', 'Coco Vandeweghe', 'Shuai Peng', 'Lucie Safarova', 'Mirjana Lucic', 'Ana Konjuh', 'Bernarda Pera', 'Xiyu Wang', 'Laura Siegemund', 'Heather Watson', 'Zarina Diyas', 'Lauren Davis', 'Tatjana Maria', 'Timea Bacsinszky', 'Carina Witthoeft']\n",
            "lefties : ['Leylah Fernandez', 'Marketa Vondrousova', 'Petra Kvitova', 'Jil Teichmann', 'Angelique Kerber', 'Beatriz Haddad Maia', 'Martina Trevisan', 'Mihaela Buzarnescu', 'Kate Makarova', 'Lucie Safarova', 'Bernarda Pera', 'Xiyu Wang'] \n",
            " 12\n",
            "righties : ['Ashleigh Barty', 'Elena Rybakina', 'Iga Swiatek', 'Sofia Kenin', 'Victoria Azarenka', 'Shelby Rogers', 'Cori Gauff', 'Ajla Tomljanovic', 'Maria Sakkari', 'Veronika Kudermetova', 'Simona Halep', 'Naomi Osaka', 'Viktorija Golubic', 'Daria Kasatkina', 'Ann Li', 'Clara Tauson', 'Sorana Cirstea', 'Sara Sorribes Tormo', 'Tamara Zidansek', 'Liudmila Samsonova', 'Marta Kostyuk', 'Tereza Martincova', 'Paula Badosa', 'Barbora Krejcikova', 'Anett Kontaveit', 'Ons Jabeur', 'Belinda Bencic', 'Garbine Muguruza', 'Elise Mertens', 'Ekaterina Alexandrova', 'Camila Giorgi', 'Jessica Pegula', 'Alison Riske Amritraj', 'Jelena Ostapenko', 'Elina Svitolina', 'Danielle Collins', 'Emma Raducanu', 'Anastasia Pavlyuchenkova', 'Aryna Sabalenka', 'Alize Cornet', 'Amanda Anisimova', 'Camila Osorio', 'Jasmine Paolini', 'Madison Keys', 'Anhelina Kalinina', 'Yulia Putintseva', 'Shuai Zhang', 'Sloane Stephens', 'Karolina Pliskova', 'Petra Martic', 'Aliaksandra Sasnovich', 'Nuria Parrizas Diaz', 'Mayar Sherif', 'Kaia Kanepi', 'Alison Van Uytvanck', 'Irina Camelia Begu', 'Caroline Garcia', 'Anna Bondar', 'Marie Bouzkova', 'Qinwen Zheng', 'Bianca Andreescu', 'Anastasia Potapova', 'Donna Vekic', 'Magda Linette', 'Katerina Siniakova', 'Ana Bogdan', 'Karolina Muchova', 'Johanna Konta', 'Polona Hercog', 'Serena Williams', 'Nadia Podoroska', 'Jennifer Brady', 'Svetlana Kuznetsova', 'Fiona Ferro', 'Qiang Wang', 'Saisai Zheng', 'Anastasija Sevastova', 'Kiki Bertens', 'Dayana Yastremska', 'Caroline Wozniacki', 'Julia Goerges', 'Barbora Strycova', 'Yafan Wang', 'Kristina Mladenovic', 'Rebecca Peterson', 'Su Wei Hsieh', 'Viktoria Kuzmova', 'Carla Suarez Navarro', 'Dominika Cibulkova', 'Lesia Tsurenko', 'Kirsten Flipkens', 'Venus Williams', 'Maria Sharapova', 'Monica Puig', 'Pauline Parmentier', 'Daria Saville', 'Timea Babos', 'Magdalena Rybarikova', 'Catherine Cartan Bellis', 'Elena Vesnina', 'Aleksandra Krunic', 'Agnieszka Radwanska', 'Samantha Stosur', 'Coco Vandeweghe', 'Shuai Peng', 'Mirjana Lucic', 'Ana Konjuh', 'Laura Siegemund', 'Heather Watson', 'Zarina Diyas', 'Lauren Davis', 'Tatjana Maria', 'Timea Bacsinszky', 'Carina Witthoeft'] \n",
            " 114\n"
          ]
        }
      ]
    },
    {
      "cell_type": "code",
      "source": [
        "# graph showing number of unique players and hand per top1, top10, top50\n",
        "height = [rightyno1, leftyno1, rightyno10, leftyno10, rightyno50, leftyno50]\n",
        "bars = ['Right Handed No. 1', 'Left Handed No. 1',\n",
        "        'Right Handed Top 10', 'Left Handed Top 10',\n",
        "        'Right Handed Top 50', 'Left Handed Top 50']\n",
        "x_pos = .2, .7, 1.7, 2.2, 3.2, 3.7\n",
        "\n",
        "plt.bar(x_pos, height, width = .25, color = [right_w_c, left_w_c, right_w_c, left_w_c, right_w_c, left_w_c])\n",
        "\n",
        "plt.title(\"Elite Players by Handedness WTA\\n\" + \"2018 - 2022\", bbox={'facecolor':'0.8', 'pad':3})\n",
        "\n",
        "plt.annotate('5', xy = (.15,5), xytext = (.16,5))\n",
        "plt.annotate('0', xy = (.67,0), xytext = (.66,0))\n",
        "plt.annotate('33', xy = (1.62,33), xytext = (1.63,33))\n",
        "plt.annotate('2', xy = (2.12,2), xytext = (2.17,2))\n",
        "plt.annotate('114', xy = (3.12,114), xytext = (3.08,114))\n",
        "plt.annotate('12', xy = (3.62,12), xytext = (3.63,12))\n",
        "\n",
        "plt.xticks(x_pos, bars, rotation = -20)"
      ],
      "metadata": {
        "colab": {
          "base_uri": "https://localhost:8080/",
          "height": 730
        },
        "id": "u1QZ2-96Wg7q",
        "outputId": "9a9bb4ab-f1bb-48c3-ac8a-7f42ef10e8ff"
      },
      "execution_count": 14,
      "outputs": [
        {
          "output_type": "execute_result",
          "data": {
            "text/plain": [
              "([<matplotlib.axis.XTick at 0x7f3d4915c8e0>,\n",
              "  <matplotlib.axis.XTick at 0x7f3d4915c8b0>,\n",
              "  <matplotlib.axis.XTick at 0x7f3d49157910>,\n",
              "  <matplotlib.axis.XTick at 0x7f3d491a9ae0>,\n",
              "  <matplotlib.axis.XTick at 0x7f3d491aa2c0>,\n",
              "  <matplotlib.axis.XTick at 0x7f3d491aad70>],\n",
              " [Text(0.2, 0, 'Right Handed No. 1'),\n",
              "  Text(0.7, 0, 'Left Handed No. 1'),\n",
              "  Text(1.7, 0, 'Right Handed Top 10'),\n",
              "  Text(2.2, 0, 'Left Handed Top 10'),\n",
              "  Text(3.2, 0, 'Right Handed Top 50'),\n",
              "  Text(3.7, 0, 'Left Handed Top 50')])"
            ]
          },
          "metadata": {},
          "execution_count": 14
        },
        {
          "output_type": "display_data",
          "data": {
            "text/plain": [
              "<Figure size 640x480 with 1 Axes>"
            ],
            "image/png": "[encoded data removed]"
          },
          "metadata": {}
        }
      ]
    },
    {
      "cell_type": "code",
      "source": [
        "wta\n",
        "\n",
        "\n",
        "right_w = 0\n",
        "right_l = 0\n",
        "left_w = 0\n",
        "left_l = 0\n",
        "\n",
        "# loop for counting the unique\n",
        "# values in height\n",
        "for i in range(0, len(wta['winner_hand'])):\n",
        "\n",
        "    if wta['winner_hand'][i] == 'L':\n",
        "        left_w += 1\n",
        "    elif wta['winner_hand'][i] == 'R':\n",
        "        right_w +=1\n",
        "\n",
        "# finds anyone who only lost a match\n",
        "for i in range(0, len(wta['loser_hand'])):\n",
        "\n",
        "    if wta['loser_hand'][i] == 'L':\n",
        "        left_l += 1\n",
        "    elif wta['loser_hand'][i] == 'R':\n",
        "        right_l +=1\n",
        "\n",
        "\n",
        "print(\"right wins vs. losses :\",\n",
        "      right_w, \"vs.\", right_l)\n",
        "\n",
        "print(\"left wins vs. losses:\",\n",
        "      left_w, \"vs.\", left_l)"
      ],
      "metadata": {
        "colab": {
          "base_uri": "https://localhost:8080/"
        },
        "id": "-w39NyRO7__3",
        "outputId": "0f36ac8b-bae1-4491-f66c-bfcf254ed973"
      },
      "execution_count": 15,
      "outputs": [
        {
          "output_type": "stream",
          "name": "stdout",
          "text": [
            "right wins vs. losses : 10672 vs. 10393\n",
            "left wins vs. losses: 1017 vs. 1088\n"
          ]
        }
      ]
    },
    {
      "cell_type": "code",
      "source": [
        "import matplotlib.pyplot as plt\n",
        "import seaborn as sns\n",
        "\n",
        "#define data\n",
        "data = [right_w, right_l]\n",
        "labels = ['Right Handed Wins', 'Right Handed Losses']\n",
        "\n",
        "\n",
        "#define Seaborn color palette to use\n",
        "colors = [right_w_c, right_l_c]\n",
        "\n",
        "style = 'poster'\n",
        "\n",
        "#create pie chart\n",
        "plt.pie(data, labels = labels, colors = colors, autopct='%.2f%%')\n",
        "\n",
        "plt.title(\"Win Percentage of Right Handed WTA\\n\" + \"2018 - 2022\", bbox={'facecolor':'0.8', 'pad':4})\n",
        "\n",
        "plt.show()\n",
        "\n",
        "\n",
        "#define data\n",
        "data = [left_w, left_l]\n",
        "labels = ['Left Handed Wins', 'Left Handed Losses']\n",
        "\n",
        "#define Seaborn color palette to use\n",
        "colors = [left_w_c, left_l_c]\n",
        "\n",
        "style = 'poster'\n",
        "\n",
        "#create pie chart\n",
        "plt.pie(data, labels = labels, colors = colors, autopct='%.2f%%')\n",
        "\n",
        "plt.title(\"Win Percentage of Left Handed WTA\\n\" + \"2018 - 2022\", bbox={'facecolor':'0.8', 'pad':4})\n",
        "\n",
        "plt.show()"
      ],
      "metadata": {
        "colab": {
          "base_uri": "https://localhost:8080/",
          "height": 881
        },
        "id": "Ey0mYM0d--v-",
        "outputId": "1565e1f2-bb23-4e02-e451-3b9a55f622e5"
      },
      "execution_count": 16,
      "outputs": [
        {
          "output_type": "display_data",
          "data": {
            "text/plain": [
              "<Figure size 640x480 with 1 Axes>"
            ],
            "image/png": "[encoded data removed]"
          },
          "metadata": {}
        },
        {
          "output_type": "display_data",
          "data": {
            "text/plain": [
              "<Figure size 640x480 with 1 Axes>"
            ],
            "image/png": "[encoded data removed]"
          },
          "metadata": {}
        }
      ]
    },
    {
      "cell_type": "code",
      "source": [
        "condition_final = wta['round'] == 'F'\n",
        "wta_final = wta[condition_final]\n",
        "wta_final = wta_final.reset_index(drop = True)\n",
        "print(len(wta_final))"
      ],
      "metadata": {
        "id": "ayGVLt3s-TW3",
        "colab": {
          "base_uri": "https://localhost:8080/"
        },
        "outputId": "26b14398-a34a-479f-bcf9-e8fe6d5376f0"
      },
      "execution_count": 17,
      "outputs": [
        {
          "output_type": "stream",
          "name": "stdout",
          "text": [
            "252\n"
          ]
        }
      ]
    },
    {
      "cell_type": "code",
      "source": [
        "wta_final\n",
        "\n",
        "\n",
        "cnt = 0\n",
        "\n",
        "# list to hold visited values\n",
        "visited = []\n",
        "lefty = []\n",
        "righty = []\n",
        "\n",
        "# loop for counting the unique\n",
        "# values in height\n",
        "for i in range(0, len(wta_final['winner_name'])):\n",
        "\n",
        "    if wta_final['winner_name'][i] not in visited:\n",
        "\n",
        "        visited.append(wta_final['winner_name'][i])\n",
        "\n",
        "        if wta_final['winner_hand'][i] == 'L' :\n",
        "          lefty.append(wta_final['winner_name'][i])\n",
        "        else :\n",
        "          righty.append(wta_final['winner_name'][i])\n",
        "\n",
        "        cnt += 1\n",
        "\n",
        "# finds anyone who only lost a match\n",
        "for i in range(0, len(wta_final['loser_name'])):\n",
        "\n",
        "    if wta_final['loser_name'][i] not in visited:\n",
        "\n",
        "        visited.append(wta_final['loser_name'][i])\n",
        "\n",
        "        if wta_final['loser_hand'][i] == 'L' :\n",
        "          lefty.append(wta_final['loser_name'][i])\n",
        "        else :\n",
        "          righty.append(wta_final['loser_name'][i])\n",
        "\n",
        "        cnt += 1\n",
        "\n",
        "print(\"No.of.unique values :\",\n",
        "      cnt)\n",
        "\n",
        "print(\"unique values :\",\n",
        "      visited)\n",
        "\n",
        "print(\"lefties :\", lefty, '\\n', len(lefty))\n",
        "\n",
        "print(\"righties :\", righty, '\\n', len(righty))\n",
        "\n",
        "data = {'name': [visited],\n",
        "        }\n",
        "players_df = pd.DataFrame(data)"
      ],
      "metadata": {
        "colab": {
          "base_uri": "https://localhost:8080/"
        },
        "id": "LHvcd3pQ93Nv",
        "outputId": "cd5aded4-b13a-4465-9e0c-3d56487b0f7a"
      },
      "execution_count": 18,
      "outputs": [
        {
          "output_type": "stream",
          "name": "stdout",
          "text": [
            "No.of.unique values : 133\n",
            "unique values : ['Ashleigh Barty', 'Simona Halep', 'Amanda Anisimova', 'Madison Keys', 'Paula Badosa', 'Anett Kontaveit', 'Jelena Ostapenko', 'Iga Swiatek', 'Sloane Stephens', 'Shuai Zhang', 'Leylah Fernandez', 'Tatjana Maria', 'Belinda Bencic', 'Anastasia Potapova', 'Ons Jabeur', 'Martina Trevisan', 'Angelique Kerber', 'Beatriz Haddad Maia', 'Ekaterina Alexandrova', 'Caroline Garcia', 'Petra Kvitova', 'Elena Rybakina', 'Bernarda Pera', 'Petra Martic', 'Irina Camelia Begu', 'Marie Bouzkova', 'Daria Kasatkina', 'Liudmila Samsonova', 'Linda Fruhvirtova', 'Katerina Siniakova', 'Mayar Sherif', 'Barbora Krejcikova', 'Elise Mertens', 'Anna Blinkova', 'Jessica Pegula', 'Aryna Sabalenka', 'Naomi Osaka', 'Clara Tauson', 'Garbine Muguruza', 'Sara Sorribes Tormo', 'Camila Osorio', 'Veronika Kudermetova', 'Astra Sharma', 'Sorana Cirstea', 'Cori Gauff', 'Johanna Konta', 'Elena Gabriela Ruse', 'Yulia Putintseva', 'Tamara Zidansek', 'Maryna Zanevska', 'Danielle Collins', 'Andrea Petkovic', 'Camila Giorgi', 'Elina Svitolina', 'Emma Raducanu', 'Jasmine Paolini', 'Alison Van Uytvanck', 'Ann Li', 'Donna Vekic', 'Alison Riske Amritraj', 'Serena Williams', 'Karolina Pliskova', 'Sofia Kenin', 'Magda Linette', 'Kiki Bertens', 'Heather Watson', 'Fiona Ferro', 'Jennifer Brady', 'Victoria Azarenka', 'Patricia Maria Tig', 'Nao Hibino', 'Dayana Yastremska', 'Jil Teichmann', 'Saisai Zheng', 'Bianca Andreescu', 'Maria Sakkari', 'Karolina Muchova', 'Julia Goerges', 'Rebecca Peterson', 'Polona Hercog', 'Anastasija Sevastova', 'Yafan Wang', 'Su Wei Hsieh', 'Anastasia Pavlyuchenkova', 'Pauline Parmentier', 'Mihaela Buzarnescu', 'Margarita Gasparyan', 'Anna Karolina Schmiedlova', 'Qiang Wang', 'Johanna Larsson', 'Alize Cornet', 'Timea Babos', 'Olga Danilovic', 'Caroline Wozniacki', 'Lesia Tsurenko', 'Aleksandra Krunic', 'Svetlana Kuznetsova', 'Aliaksandra Sasnovich', 'Laura Pigossi', 'Claire Liu', 'Kaja Juvan', 'Lucia Bronzetti', 'Ana Bogdan', 'Shelby Rogers', 'Kaia Kanepi', 'Daria Saville', 'Qinwen Zheng', 'Viktorija Golubic', 'Eugenie Bouchard', 'Danka Kovinic', 'Ana Konjuh', 'Anhelina Kalinina', 'Clara Burel', 'Tereza Martincova', 'Kristina Kucova', 'Marketa Vondrousova', 'Jaqueline Cristian', 'Leonie Kung', 'Anna Lena Friedsam', 'Misaki Doi', 'Samantha Stosur', 'Ajla Tomljanovic', 'Katarzyna Kawa', 'Dominika Cibulkova', 'Carla Suarez Navarro', 'Lara Arruabarrena', 'Coco Vandeweghe', 'Magdalena Rybarikova', 'Kristina Mladenovic', 'Mandy Minella', 'Kateryna Baindl', 'Stefanie Voegele', 'Kirsten Flipkens']\n",
            "lefties : ['Leylah Fernandez', 'Martina Trevisan', 'Angelique Kerber', 'Beatriz Haddad Maia', 'Petra Kvitova', 'Bernarda Pera', 'Jil Teichmann', 'Mihaela Buzarnescu', 'Olga Danilovic', 'Marketa Vondrousova', 'Misaki Doi'] \n",
            " 11\n",
            "righties : ['Ashleigh Barty', 'Simona Halep', 'Amanda Anisimova', 'Madison Keys', 'Paula Badosa', 'Anett Kontaveit', 'Jelena Ostapenko', 'Iga Swiatek', 'Sloane Stephens', 'Shuai Zhang', 'Tatjana Maria', 'Belinda Bencic', 'Anastasia Potapova', 'Ons Jabeur', 'Ekaterina Alexandrova', 'Caroline Garcia', 'Elena Rybakina', 'Petra Martic', 'Irina Camelia Begu', 'Marie Bouzkova', 'Daria Kasatkina', 'Liudmila Samsonova', 'Linda Fruhvirtova', 'Katerina Siniakova', 'Mayar Sherif', 'Barbora Krejcikova', 'Elise Mertens', 'Anna Blinkova', 'Jessica Pegula', 'Aryna Sabalenka', 'Naomi Osaka', 'Clara Tauson', 'Garbine Muguruza', 'Sara Sorribes Tormo', 'Camila Osorio', 'Veronika Kudermetova', 'Astra Sharma', 'Sorana Cirstea', 'Cori Gauff', 'Johanna Konta', 'Elena Gabriela Ruse', 'Yulia Putintseva', 'Tamara Zidansek', 'Maryna Zanevska', 'Danielle Collins', 'Andrea Petkovic', 'Camila Giorgi', 'Elina Svitolina', 'Emma Raducanu', 'Jasmine Paolini', 'Alison Van Uytvanck', 'Ann Li', 'Donna Vekic', 'Alison Riske Amritraj', 'Serena Williams', 'Karolina Pliskova', 'Sofia Kenin', 'Magda Linette', 'Kiki Bertens', 'Heather Watson', 'Fiona Ferro', 'Jennifer Brady', 'Victoria Azarenka', 'Patricia Maria Tig', 'Nao Hibino', 'Dayana Yastremska', 'Saisai Zheng', 'Bianca Andreescu', 'Maria Sakkari', 'Karolina Muchova', 'Julia Goerges', 'Rebecca Peterson', 'Polona Hercog', 'Anastasija Sevastova', 'Yafan Wang', 'Su Wei Hsieh', 'Anastasia Pavlyuchenkova', 'Pauline Parmentier', 'Margarita Gasparyan', 'Anna Karolina Schmiedlova', 'Qiang Wang', 'Johanna Larsson', 'Alize Cornet', 'Timea Babos', 'Caroline Wozniacki', 'Lesia Tsurenko', 'Aleksandra Krunic', 'Svetlana Kuznetsova', 'Aliaksandra Sasnovich', 'Laura Pigossi', 'Claire Liu', 'Kaja Juvan', 'Lucia Bronzetti', 'Ana Bogdan', 'Shelby Rogers', 'Kaia Kanepi', 'Daria Saville', 'Qinwen Zheng', 'Viktorija Golubic', 'Eugenie Bouchard', 'Danka Kovinic', 'Ana Konjuh', 'Anhelina Kalinina', 'Clara Burel', 'Tereza Martincova', 'Kristina Kucova', 'Jaqueline Cristian', 'Leonie Kung', 'Anna Lena Friedsam', 'Samantha Stosur', 'Ajla Tomljanovic', 'Katarzyna Kawa', 'Dominika Cibulkova', 'Carla Suarez Navarro', 'Lara Arruabarrena', 'Coco Vandeweghe', 'Magdalena Rybarikova', 'Kristina Mladenovic', 'Mandy Minella', 'Kateryna Baindl', 'Stefanie Voegele', 'Kirsten Flipkens'] \n",
            " 122\n"
          ]
        }
      ]
    },
    {
      "cell_type": "code",
      "source": [
        "# checking number of finals wins per hand\n",
        "\n",
        "wta_final\n",
        "\n",
        "right_fw = 0\n",
        "left_fw = 0\n",
        "\n",
        "right_fl = 0\n",
        "left_fl = 0\n",
        "\n",
        "for i in range (0,len(wta_final['winner_name'])):\n",
        "\n",
        "  if(wta_final['winner_hand'][i] == 'R'):\n",
        "    right_fw += 1\n",
        "  elif(wta_final['winner_hand'][i] == 'L'):\n",
        "    left_fw +=1\n",
        "\n",
        "for i in range (0,len(wta_final['loser_name'])):\n",
        "\n",
        "  if(wta_final['loser_hand'][i] == 'R'):\n",
        "    right_fl += 1\n",
        "  elif(wta_final['loser_hand'][i] == 'L'):\n",
        "    left_fl +=1\n",
        "\n",
        "print('righty wins :', right_fw)\n",
        "print('lefty wins :', left_fw)\n",
        "\n",
        "print('righty losses :', right_fl)\n",
        "print('lefty losses :', left_fl)\n",
        "\n",
        "right_fa = right_fl+right_fw\n",
        "left_fa = left_fw+ left_fl\n",
        "\n",
        "print('righty appearances :', right_fa)\n",
        "print('lefty appearances :', left_fa)\n",
        "\n",
        "leftvleft = 0\n",
        "\n",
        "for i in range (0,len(wta_final['loser_name'])):\n",
        "    if((wta_final['winner_hand'][i] =='L') and (wta_final['loser_hand'][i] =='L')) :\n",
        "      leftvleft +=1\n",
        "\n",
        "print('leftvleft :', leftvleft)"
      ],
      "metadata": {
        "colab": {
          "base_uri": "https://localhost:8080/"
        },
        "id": "n9MrfOEX_OWx",
        "outputId": "c1da42f5-603f-455e-988a-0f36cfe4f5da"
      },
      "execution_count": 19,
      "outputs": [
        {
          "output_type": "stream",
          "name": "stdout",
          "text": [
            "righty wins : 227\n",
            "lefty wins : 24\n",
            "righty losses : 232\n",
            "lefty losses : 19\n",
            "righty appearances : 459\n",
            "lefty appearances : 43\n",
            "leftvleft : 1\n"
          ]
        }
      ]
    },
    {
      "cell_type": "code",
      "source": [
        "# OVERALL HANDEDNESS OF THE FINAL\n",
        "data = [right_fa, left_fa]\n",
        "labels = ['Right Handed Finals Appearances', 'Left Handed Finals Appearances']\n",
        "\n",
        "#define Seaborn color palette to use\n",
        "colors = ['#FF8119', '#1997FF']\n",
        "\n",
        "context = 'poster'\n",
        "\n",
        "#create pie chart\n",
        "plt.pie(data, labels = labels, colors = colors, autopct='%.2f%%')\n",
        "\n",
        "plt.title(\"Handedness of Finals WTA\\n\" + \"2018 - 2022\", bbox={'facecolor':'0.8', 'pad':4})\n",
        "\n",
        "plt.show()\n",
        "\n",
        "\n",
        "# HOW THEY DID BOTH HANDEDNESS\n",
        "data = [right_fw, right_fl, left_fw, left_fl]\n",
        "labels = ['Right Finals Wins', 'Right Finals Losses', 'Left Finals Wins', 'Left Finals Losses']\n",
        "\n",
        "#define Seaborn color palette to use\n",
        "colors = [right_w_c, right_l_c, left_w_c, left_l_c]\n",
        "\n",
        "context = 'poster'\n",
        "\n",
        "#create pie chart\n",
        "plt.pie(data, labels = labels, colors = colors, autopct='%.2f%%')\n",
        "\n",
        "plt.title(\"Finals Performance by Handedness WTA\\n\" + \"2018 - 2022\", bbox={'facecolor':'0.8', 'pad':4})\n",
        "\n",
        "plt.show()\n",
        "\n",
        "\n",
        "# HOW RIGHTIES DID OVERALL\n",
        "data = [right_fw, right_fl]\n",
        "labels = ['Right Finals Wins', 'Right Finals Losses']\n",
        "\n",
        "#define Seaborn color palette to use\n",
        "colors = [right_w_c, right_l_c]\n",
        "\n",
        "context = 'poster'\n",
        "\n",
        "#create pie chart\n",
        "plt.pie(data, labels = labels, colors = colors, autopct='%.2f%%')\n",
        "\n",
        "plt.title(\"Finals Performance Right Handed WTA\\n\" + \"2018 - 2022\", bbox={'facecolor':'0.8', 'pad':4})\n",
        "\n",
        "plt.show()\n",
        "\n",
        "\n",
        "#HOW LEFTIES DID OVERALL\n",
        "data = [left_fw, left_fl]\n",
        "labels = ['Left Finals Wins', 'Left Finals Losses']\n",
        "\n",
        "#define Seaborn color palette to use\n",
        "colors = [left_w_c, left_l_c]\n",
        "\n",
        "context = 'poster'\n",
        "\n",
        "#create pie chart\n",
        "plt.pie(data, labels = labels, colors = colors, autopct='%.2f%%')\n",
        "\n",
        "plt.title(\"Finals Performance Left Handed WTA\\n\" + \"2018 - 2022\", bbox={'facecolor':'0.8', 'pad':4})\n",
        "\n",
        "plt.show()"
      ],
      "metadata": {
        "colab": {
          "base_uri": "https://localhost:8080/",
          "height": 1000
        },
        "id": "304iHqpnMtjX",
        "outputId": "6ddf25e5-ee60-44b4-e1ed-2719e5313fd2"
      },
      "execution_count": 20,
      "outputs": [
        {
          "output_type": "display_data",
          "data": {
            "text/plain": [
              "<Figure size 640x480 with 1 Axes>"
            ],
            "image/png": "[encoded data removed]"
          },
          "metadata": {}
        },
        {
          "output_type": "display_data",
          "data": {
            "text/plain": [
              "<Figure size 640x480 with 1 Axes>"
            ],
            "image/png": "[encoded data removed]"
          },
          "metadata": {}
        },
        {
          "output_type": "display_data",
          "data": {
            "text/plain": [
              "<Figure size 640x480 with 1 Axes>"
            ],
            "image/png": "[encoded data removed]"
          },
          "metadata": {}
        },
        {
          "output_type": "display_data",
          "data": {
            "text/plain": [
              "<Figure size 640x480 with 1 Axes>"
            ],
            "image/png": "[encoded data removed]"
          },
          "metadata": {}
        }
      ]
    },
    {
      "cell_type": "code",
      "source": [
        "height = [right_fw, right_fl, left_fw, left_fl]\n",
        "bars = ['Right Handed Finals Win', 'Right Handed Finals Loss', 'Left Handed Finals Win', 'Left Handed Finals Loss']\n",
        "x_pos = .2, .7, 1.2, 1.7\n",
        "\n",
        "plt.bar(x_pos, height, width = .25, color = [right_w_c, right_l_c, left_w_c, left_l_c])\n",
        "\n",
        "plt.title(\"Finals Performance by Hand WTA\\n\" + \"2018 - 2022\", bbox={'facecolor':'0.8', 'pad':3})\n",
        "\n",
        "plt.annotate('227', xy = (.15,227), xytext = (.15,227))\n",
        "plt.annotate('232', xy = (.65,232), xytext = (.65,232))\n",
        "plt.annotate('24', xy = (1.16,40), xytext = (1.16,24))\n",
        "plt.annotate('19', xy = (1.67,38), xytext = (1.67,19))\n",
        "\n",
        "plt.xticks(x_pos, bars, rotation = -20)"
      ],
      "metadata": {
        "colab": {
          "base_uri": "https://localhost:8080/",
          "height": 670
        },
        "id": "tmuxibLqS4QJ",
        "outputId": "25bcb4f5-51cb-4f8c-d3af-661c83c9fffd"
      },
      "execution_count": 21,
      "outputs": [
        {
          "output_type": "execute_result",
          "data": {
            "text/plain": [
              "([<matplotlib.axis.XTick at 0x7f3d4907b6a0>,\n",
              "  <matplotlib.axis.XTick at 0x7f3d4907b730>,\n",
              "  <matplotlib.axis.XTick at 0x7f3d4907b2e0>,\n",
              "  <matplotlib.axis.XTick at 0x7f3d48ffdab0>],\n",
              " [Text(0.2, 0, 'Right Handed Finals Win'),\n",
              "  Text(0.7, 0, 'Right Handed Finals Loss'),\n",
              "  Text(1.2, 0, 'Left Handed Finals Win'),\n",
              "  Text(1.7, 0, 'Left Handed Finals Loss')])"
            ]
          },
          "metadata": {},
          "execution_count": 21
        },
        {
          "output_type": "display_data",
          "data": {
            "text/plain": [
              "<Figure size 640x480 with 1 Axes>"
            ],
            "image/png": "[encoded data removed]"
          },
          "metadata": {}
        }
      ]
    },
    {
      "cell_type": "code",
      "source": [
        "wta.columns"
      ],
      "metadata": {
        "colab": {
          "base_uri": "https://localhost:8080/"
        },
        "id": "-gtXKeZGCkN3",
        "outputId": "ef838b56-200e-4a6f-e5a7-b484f6b496bb"
      },
      "execution_count": 22,
      "outputs": [
        {
          "output_type": "execute_result",
          "data": {
            "text/plain": [
              "Index(['year', 'tourney_id', 'tourney_name', 'surface', 'draw_size',\n",
              "       'tourney_level', 'tourney_date', 'match_num', 'winner_id',\n",
              "       'winner_seed', 'winner_entry', 'winner_name', 'winner_hand',\n",
              "       'winner_ht', 'winner_ioc', 'winner_age', 'loser_id', 'loser_seed',\n",
              "       'loser_entry', 'loser_name', 'loser_hand', 'loser_ht', 'loser_ioc',\n",
              "       'loser_age', 'score', 'best_of', 'round', 'minutes', 'w_ace', 'w_df',\n",
              "       'w_svpt', 'w_1stIn', 'w_1stWon', 'w_2ndWon', 'w_SvGms', 'w_bpSaved',\n",
              "       'w_bpFaced', 'l_ace', 'l_df', 'l_svpt', 'l_1stIn', 'l_1stWon',\n",
              "       'l_2ndWon', 'l_SvGms', 'l_bpSaved', 'l_bpFaced', 'winner_rank',\n",
              "       'winner_rank_points', 'loser_rank', 'loser_rank_points'],\n",
              "      dtype='object')"
            ]
          },
          "metadata": {},
          "execution_count": 22
        }
      ]
    },
    {
      "cell_type": "code",
      "source": [
        "condition_rw = wta['winner_hand'] == 'R'\n",
        "condition_lw = wta['winner_hand'] == 'L'\n",
        "\n",
        "rv = wta[condition_rw]\n",
        "lv = wta[condition_lw]"
      ],
      "metadata": {
        "id": "syP1yPyfDiO5"
      },
      "execution_count": 23,
      "outputs": []
    },
    {
      "cell_type": "code",
      "source": [
        "condition_rvr = rv['loser_hand'] == 'R'\n",
        "condition_rvl = rv['loser_hand'] == 'L'\n",
        "\n",
        "rvr = rv[condition_rvr]\n",
        "rvl = rv[condition_rvl]\n",
        "\n",
        "\n",
        "condition_lvr = lv['loser_hand'] == 'R'\n",
        "condition_lvl = lv['loser_hand'] == 'L'\n",
        "\n",
        "lvr = lv[condition_lvr]\n",
        "lvl = lv[condition_lvl]\n",
        "\n",
        "print(len(rvr),len(rvl),len(lvr),len(lvl))"
      ],
      "metadata": {
        "colab": {
          "base_uri": "https://localhost:8080/"
        },
        "id": "YkLxaI5CxiTP",
        "outputId": "85c24707-5d0d-443a-f4d1-5270ccbdd153"
      },
      "execution_count": 24,
      "outputs": [
        {
          "output_type": "stream",
          "name": "stdout",
          "text": [
            "9336 988 887 84\n"
          ]
        }
      ]
    },
    {
      "cell_type": "code",
      "source": [
        "print(lvr['winner_hand'].unique(),\n",
        "      lvr['loser_hand'].unique())"
      ],
      "metadata": {
        "colab": {
          "base_uri": "https://localhost:8080/"
        },
        "id": "hk1W0PHI28vC",
        "outputId": "d734e688-2a20-4c9b-81dc-760bedafffb4"
      },
      "execution_count": 25,
      "outputs": [
        {
          "output_type": "stream",
          "name": "stdout",
          "text": [
            "['L'] ['R']\n"
          ]
        }
      ]
    },
    {
      "cell_type": "code",
      "source": [
        "actualrange_condition = rvr['minutes'] < 288\n",
        "actualrange_condition2 = rvr['minutes'] > 5\n",
        "rvr = rvr[actualrange_condition]\n",
        "rvrm = rvr[actualrange_condition2]\n",
        "\n",
        "actualrange_condition2 = rvl['minutes'] > 5\n",
        "rvlm = rvl[actualrange_condition2]\n",
        "\n",
        "actualrange_condition2 = lvr['minutes'] > 5\n",
        "lvrm = lvr[actualrange_condition2]\n",
        "\n",
        "actualrange_condition2 = lvl['minutes'] > 5\n",
        "lvlm = lvl[actualrange_condition2]"
      ],
      "metadata": {
        "colab": {
          "base_uri": "https://localhost:8080/"
        },
        "id": "kOnEH3ODhF5Z",
        "outputId": "0efc983e-84cb-4bbf-9acf-c56ccb36a182"
      },
      "execution_count": 26,
      "outputs": [
        {
          "output_type": "stream",
          "name": "stderr",
          "text": [
            "<ipython-input-26-cd0acb07c72b>:4: UserWarning: Boolean Series key will be reindexed to match DataFrame index.\n",
            "  rvrm = rvr[actualrange_condition2]\n"
          ]
        }
      ]
    },
    {
      "cell_type": "code",
      "source": [
        "rvrmd = rvrm.drop(['year', 'tourney_id', 'tourney_name', 'surface', 'draw_size',\n",
        "       'tourney_level', 'tourney_date', 'match_num', 'winner_id',\n",
        "       'winner_seed', 'winner_entry', 'winner_name', 'winner_hand',\n",
        "       'winner_ht', 'winner_ioc', 'winner_age', 'loser_id', 'loser_seed',\n",
        "       'loser_entry', 'loser_name', 'loser_hand', 'loser_ht', 'loser_ioc',\n",
        "       'loser_age', 'score', 'best_of', 'round', 'w_ace', 'w_df',\n",
        "       'w_svpt', 'w_1stIn', 'w_1stWon', 'w_2ndWon', 'w_SvGms', 'w_bpSaved',\n",
        "       'w_bpFaced', 'l_ace', 'l_df', 'l_svpt', 'l_1stIn', 'l_1stWon',\n",
        "       'l_2ndWon', 'l_SvGms', 'l_bpSaved', 'l_bpFaced', 'winner_rank',\n",
        "       'winner_rank_points', 'loser_rank', 'loser_rank_points'], axis = 1)\n",
        "rvlmd = rvlm.drop(['year', 'tourney_id', 'tourney_name', 'surface', 'draw_size',\n",
        "       'tourney_level', 'tourney_date', 'match_num', 'winner_id',\n",
        "       'winner_seed', 'winner_entry', 'winner_name', 'winner_hand',\n",
        "       'winner_ht', 'winner_ioc', 'winner_age', 'loser_id', 'loser_seed',\n",
        "       'loser_entry', 'loser_name', 'loser_hand', 'loser_ht', 'loser_ioc',\n",
        "       'loser_age', 'score', 'best_of', 'round', 'w_ace', 'w_df',\n",
        "       'w_svpt', 'w_1stIn', 'w_1stWon', 'w_2ndWon', 'w_SvGms', 'w_bpSaved',\n",
        "       'w_bpFaced', 'l_ace', 'l_df', 'l_svpt', 'l_1stIn', 'l_1stWon',\n",
        "       'l_2ndWon', 'l_SvGms', 'l_bpSaved', 'l_bpFaced', 'winner_rank',\n",
        "       'winner_rank_points', 'loser_rank', 'loser_rank_points'], axis = 1)\n",
        "lvrmd = lvrm.drop(['year', 'tourney_id', 'tourney_name', 'surface', 'draw_size',\n",
        "       'tourney_level', 'tourney_date', 'match_num', 'winner_id',\n",
        "       'winner_seed', 'winner_entry', 'winner_name', 'winner_hand',\n",
        "       'winner_ht', 'winner_ioc', 'winner_age', 'loser_id', 'loser_seed',\n",
        "       'loser_entry', 'loser_name', 'loser_hand', 'loser_ht', 'loser_ioc',\n",
        "       'loser_age', 'score', 'best_of', 'round', 'w_ace', 'w_df',\n",
        "       'w_svpt', 'w_1stIn', 'w_1stWon', 'w_2ndWon', 'w_SvGms', 'w_bpSaved',\n",
        "       'w_bpFaced', 'l_ace', 'l_df', 'l_svpt', 'l_1stIn', 'l_1stWon',\n",
        "       'l_2ndWon', 'l_SvGms', 'l_bpSaved', 'l_bpFaced', 'winner_rank',\n",
        "       'winner_rank_points', 'loser_rank', 'loser_rank_points'], axis = 1)\n",
        "lvlmd = lvlm.drop(['year', 'tourney_id', 'tourney_name', 'surface', 'draw_size',\n",
        "       'tourney_level', 'tourney_date', 'match_num', 'winner_id',\n",
        "       'winner_seed', 'winner_entry', 'winner_name', 'winner_hand',\n",
        "       'winner_ht', 'winner_ioc', 'winner_age', 'loser_id', 'loser_seed',\n",
        "       'loser_entry', 'loser_name', 'loser_hand', 'loser_ht', 'loser_ioc',\n",
        "       'loser_age', 'score', 'best_of', 'round', 'w_ace', 'w_df',\n",
        "       'w_svpt', 'w_1stIn', 'w_1stWon', 'w_2ndWon', 'w_SvGms', 'w_bpSaved',\n",
        "       'w_bpFaced', 'l_ace', 'l_df', 'l_svpt', 'l_1stIn', 'l_1stWon',\n",
        "       'l_2ndWon', 'l_SvGms', 'l_bpSaved', 'l_bpFaced', 'winner_rank',\n",
        "       'winner_rank_points', 'loser_rank', 'loser_rank_points'], axis = 1)"
      ],
      "metadata": {
        "id": "p_1l1U8WZRB6"
      },
      "execution_count": 27,
      "outputs": []
    },
    {
      "cell_type": "code",
      "source": [
        "rvrmd.insert(0, \"outcome\", \"rvr\", True)\n",
        "rvlmd.insert(0, \"outcome\", \"rvl\", True)\n",
        "lvrmd.insert(0, \"outcome\", \"lvr\", True)\n",
        "lvlmd.insert(0, \"outcome\", \"lvl\", True)"
      ],
      "metadata": {
        "id": "82uiZ-gJZsds"
      },
      "execution_count": 28,
      "outputs": []
    },
    {
      "cell_type": "code",
      "source": [
        "bo3 = pd.concat([rvrmd, rvlmd, lvrmd, lvlmd], axis=0, ignore_index=True)"
      ],
      "metadata": {
        "id": "7ZHkvepsZ2dO"
      },
      "execution_count": 29,
      "outputs": []
    },
    {
      "cell_type": "code",
      "source": [
        "from scipy.stats import f_oneway\n",
        "import random\n",
        "\n",
        "unique_rvr3md = list(rvrmd['minutes'])\n",
        "unique_rvl3md = list(rvlmd['minutes'])\n",
        "unique_lvr3md = list(lvrmd['minutes'])\n",
        "unique_lvl3md = list(lvlmd['minutes'])\n",
        "random.seed(30)\n",
        "sample_rvrbo3 = random.sample(unique_rvr3md, 75)\n",
        "sample_rvlbo3 = random.sample(unique_rvl3md, 75)\n",
        "sample_lvrbo3 = random.sample(unique_lvr3md, 75)\n",
        "sample_lvlbo3 = random.sample(unique_lvl3md, 75)\n",
        "\n",
        "\n",
        "f_oneway(sample_rvrbo3,sample_rvlbo3,sample_lvrbo3)"
      ],
      "metadata": {
        "colab": {
          "base_uri": "https://localhost:8080/"
        },
        "id": "ohDgW8OQfCGF",
        "outputId": "300cf4c0-cef2-457d-f941-0f9dc9338244"
      },
      "execution_count": 30,
      "outputs": [
        {
          "output_type": "execute_result",
          "data": {
            "text/plain": [
              "F_onewayResult(statistic=2.5892982261233954, pvalue=0.07733879908143591)"
            ]
          },
          "metadata": {},
          "execution_count": 30
        }
      ]
    },
    {
      "cell_type": "code",
      "source": [
        "import random\n",
        "\n",
        "# random sample for 500 students\n",
        "unique_bo3 = list(bo3['minutes'].unique())\n",
        "random.seed(30) # set a seed so that everytime we will extract same sample\n",
        "sample_bo3 = random.sample(unique_bo3, 200)\n",
        "sample_df = bo3[bo3['minutes'].isin(sample_bo3)].reset_index(drop=True)\n",
        "\n",
        "# two variables of interest\n",
        "sample_df = sample_df[['outcome', 'minutes']]\n",
        "groups = sample_df.groupby('outcome').count().reset_index()\n",
        "# groups.plot(kind='bar',x='outcome',y='minutes')\n",
        "groups"
      ],
      "metadata": {
        "colab": {
          "base_uri": "https://localhost:8080/",
          "height": 174
        },
        "id": "KdhMMT_lQMiU",
        "outputId": "95f8618d-31f4-43b8-9cde-9ee4caf26fce"
      },
      "execution_count": 31,
      "outputs": [
        {
          "output_type": "execute_result",
          "data": {
            "text/plain": [
              "  outcome  minutes\n",
              "0     lvl       75\n",
              "1     lvr      824\n",
              "2     rvl      925\n",
              "3     rvr     8739"
            ],
            "text/html": [
              "\n",
              "  <div id=\"df-ffd99ff7-a23f-4461-9930-d5a3e68597e5\">\n",
              "    <div class=\"colab-df-container\">\n",
              "      <div>\n",
              "<style scoped>\n",
              "    .dataframe tbody tr th:only-of-type {\n",
              "        vertical-align: middle;\n",
              "    }\n",
              "\n",
              "    .dataframe tbody tr th {\n",
              "        vertical-align: top;\n",
              "    }\n",
              "\n",
              "    .dataframe thead th {\n",
              "        text-align: right;\n",
              "    }\n",
              "</style>\n",
              "<table border=\"1\" class=\"dataframe\">\n",
              "  <thead>\n",
              "    <tr style=\"text-align: right;\">\n",
              "      <th></th>\n",
              "      <th>outcome</th>\n",
              "      <th>minutes</th>\n",
              "    </tr>\n",
              "  </thead>\n",
              "  <tbody>\n",
              "    <tr>\n",
              "      <th>0</th>\n",
              "      <td>lvl</td>\n",
              "      <td>75</td>\n",
              "    </tr>\n",
              "    <tr>\n",
              "      <th>1</th>\n",
              "      <td>lvr</td>\n",
              "      <td>824</td>\n",
              "    </tr>\n",
              "    <tr>\n",
              "      <th>2</th>\n",
              "      <td>rvl</td>\n",
              "      <td>925</td>\n",
              "    </tr>\n",
              "    <tr>\n",
              "      <th>3</th>\n",
              "      <td>rvr</td>\n",
              "      <td>8739</td>\n",
              "    </tr>\n",
              "  </tbody>\n",
              "</table>\n",
              "</div>\n",
              "      <button class=\"colab-df-convert\" onclick=\"convertToInteractive('df-ffd99ff7-a23f-4461-9930-d5a3e68597e5')\"\n",
              "              title=\"Convert this dataframe to an interactive table.\"\n",
              "              style=\"display:none;\">\n",
              "        \n",
              "  <svg xmlns=\"http://www.w3.org/2000/svg\" height=\"24px\"viewBox=\"0 0 24 24\"\n",
              "       width=\"24px\">\n",
              "    <path d=\"M0 0h24v24H0V0z\" fill=\"none\"/>\n",
              "    <path d=\"M18.56 5.44l.94 2.06.94-2.06 2.06-.94-2.06-.94-.94-2.06-.94 2.06-2.06.94zm-11 1L8.5 8.5l.94-2.06 2.06-.94-2.06-.94L8.5 2.5l-.94 2.06-2.06.94zm10 10l.94 2.06.94-2.06 2.06-.94-2.06-.94-.94-2.06-.94 2.06-2.06.94z\"/><path d=\"M17.41 7.96l-1.37-1.37c-.4-.4-.92-.59-1.43-.59-.52 0-1.04.2-1.43.59L10.3 9.45l-7.72 7.72c-.78.78-.78 2.05 0 2.83L4 21.41c.39.39.9.59 1.41.59.51 0 1.02-.2 1.41-.59l7.78-7.78 2.81-2.81c.8-.78.8-2.07 0-2.86zM5.41 20L4 18.59l7.72-7.72 1.47 1.35L5.41 20z\"/>\n",
              "  </svg>\n",
              "      </button>\n",
              "      \n",
              "  <style>\n",
              "    .colab-df-container {\n",
              "      display:flex;\n",
              "      flex-wrap:wrap;\n",
              "      gap: 12px;\n",
              "    }\n",
              "\n",
              "    .colab-df-convert {\n",
              "      background-color: #E8F0FE;\n",
              "      border: none;\n",
              "      border-radius: 50%;\n",
              "      cursor: pointer;\n",
              "      display: none;\n",
              "      fill: #1967D2;\n",
              "      height: 32px;\n",
              "      padding: 0 0 0 0;\n",
              "      width: 32px;\n",
              "    }\n",
              "\n",
              "    .colab-df-convert:hover {\n",
              "      background-color: #E2EBFA;\n",
              "      box-shadow: 0px 1px 2px rgba(60, 64, 67, 0.3), 0px 1px 3px 1px rgba(60, 64, 67, 0.15);\n",
              "      fill: #174EA6;\n",
              "    }\n",
              "\n",
              "    [theme=dark] .colab-df-convert {\n",
              "      background-color: #3B4455;\n",
              "      fill: #D2E3FC;\n",
              "    }\n",
              "\n",
              "    [theme=dark] .colab-df-convert:hover {\n",
              "      background-color: #434B5C;\n",
              "      box-shadow: 0px 1px 3px 1px rgba(0, 0, 0, 0.15);\n",
              "      filter: drop-shadow(0px 1px 2px rgba(0, 0, 0, 0.3));\n",
              "      fill: #FFFFFF;\n",
              "    }\n",
              "  </style>\n",
              "\n",
              "      <script>\n",
              "        const buttonEl =\n",
              "          document.querySelector('#df-ffd99ff7-a23f-4461-9930-d5a3e68597e5 button.colab-df-convert');\n",
              "        buttonEl.style.display =\n",
              "          google.colab.kernel.accessAllowed ? 'block' : 'none';\n",
              "\n",
              "        async function convertToInteractive(key) {\n",
              "          const element = document.querySelector('#df-ffd99ff7-a23f-4461-9930-d5a3e68597e5');\n",
              "          const dataTable =\n",
              "            await google.colab.kernel.invokeFunction('convertToInteractive',\n",
              "                                                     [key], {});\n",
              "          if (!dataTable) return;\n",
              "\n",
              "          const docLinkHtml = 'Like what you see? Visit the ' +\n",
              "            '<a target=\"_blank\" href=https://colab.research.google.com/notebooks/data_table.ipynb>data table notebook</a>'\n",
              "            + ' to learn more about interactive tables.';\n",
              "          element.innerHTML = '';\n",
              "          dataTable['output_type'] = 'display_data';\n",
              "          await google.colab.output.renderOutput(dataTable, element);\n",
              "          const docLink = document.createElement('div');\n",
              "          docLink.innerHTML = docLinkHtml;\n",
              "          element.appendChild(docLink);\n",
              "        }\n",
              "      </script>\n",
              "    </div>\n",
              "  </div>\n",
              "  "
            ]
          },
          "metadata": {},
          "execution_count": 31
        }
      ]
    },
    {
      "cell_type": "code",
      "source": [
        "import numpy as np\n",
        "import scipy.stats as stats\n",
        "import matplotlib.pyplot as plt\n",
        "\n",
        "unique_outcome = sample_df['outcome'].unique()\n",
        "for outcome in unique_outcome:\n",
        "    stats.probplot(sample_df[sample_df['outcome'] == outcome]['minutes'], dist=\"norm\", plot=plt)\n",
        "    plt.title(\"Probability Plot - \" +  outcome)\n",
        "    plt.show()"
      ],
      "metadata": {
        "id": "5X04I_SbSav2",
        "colab": {
          "base_uri": "https://localhost:8080/",
          "height": 1000
        },
        "outputId": "251c13c6-caac-4529-eaca-1118587893f2"
      },
      "execution_count": 32,
      "outputs": [
        {
          "output_type": "display_data",
          "data": {
            "text/plain": [
              "<Figure size 640x480 with 1 Axes>"
            ],
            "image/png": "[encoded data removed]"
          },
          "metadata": {}
        },
        {
          "output_type": "display_data",
          "data": {
            "text/plain": [
              "<Figure size 640x480 with 1 Axes>"
            ],
            "image/png": "[encoded data removed]"
          },
          "metadata": {}
        },
        {
          "output_type": "display_data",
          "data": {
            "text/plain": [
              "<Figure size 640x480 with 1 Axes>"
            ],
            "image/png": "[encoded data removed]"
          },
          "metadata": {}
        },
        {
          "output_type": "display_data",
          "data": {
            "text/plain": [
              "<Figure size 640x480 with 1 Axes>"
            ],
            "image/png": "[encoded data removed]"
          },
          "metadata": {}
        }
      ]
    },
    {
      "cell_type": "code",
      "source": [
        "# calculate ratio of the largest to the smallest sample standard deviation\n",
        "ratio = sample_df.groupby('outcome').std().max() / sample_df.groupby('outcome').std().min()\n",
        "ratio"
      ],
      "metadata": {
        "colab": {
          "base_uri": "https://localhost:8080/"
        },
        "id": "cHrCLZZaSx7S",
        "outputId": "c795f6eb-fad1-4fd0-e714-b3fb2ff81ffd"
      },
      "execution_count": 33,
      "outputs": [
        {
          "output_type": "execute_result",
          "data": {
            "text/plain": [
              "minutes    1.097316\n",
              "dtype: float64"
            ]
          },
          "metadata": {},
          "execution_count": 33
        }
      ]
    },
    {
      "cell_type": "markdown",
      "source": [
        "The ratio 1.097316 is less than 2, therefore the assumptions are fulfilled"
      ],
      "metadata": {
        "id": "9quSP82CTFJm"
      }
    },
    {
      "cell_type": "code",
      "source": [
        "# Create ANOVA backbone table\n",
        "data = [['Between Groups', '', '', '', '', '', ''], ['Within Groups', '', '', '', '', '', ''], ['Total', '', '', '', '', '', '']]\n",
        "anova_table = pd.DataFrame(data, columns = ['Source of Variation', 'SS', 'df', 'MS', 'F', 'P-value', 'F crit'])\n",
        "anova_table.set_index('Source of Variation', inplace = True)\n",
        "\n",
        "# calculate SSTR and update anova table\n",
        "x_bar = sample_df['minutes'].mean()\n",
        "SSTR = sample_df.groupby('outcome').count() * (sample_df.groupby('outcome').mean() - x_bar)**2\n",
        "anova_table['SS']['Between Groups'] = SSTR['minutes'].sum()\n",
        "\n",
        "# calculate SSE and update anova table\n",
        "SSE = (sample_df.groupby('outcome').count() - 1) * sample_df.groupby('outcome').std()**2\n",
        "anova_table['SS']['Within Groups'] = SSE['minutes'].sum()\n",
        "\n",
        "# calculate SSTR and update anova table\n",
        "SSTR = SSTR['minutes'].sum() + SSE['minutes'].sum()\n",
        "anova_table['SS']['Total'] = SSTR\n",
        "\n",
        "# update degree of freedom\n",
        "anova_table['df']['Between Groups'] = sample_df['outcome'].nunique() - 1\n",
        "anova_table['df']['Within Groups'] = sample_df.shape[0] - sample_df['outcome'].nunique()\n",
        "anova_table['df']['Total'] = sample_df.shape[0] - 1\n",
        "\n",
        "# calculate MS\n",
        "anova_table['MS'] = anova_table['SS'] / anova_table['df']\n",
        "\n",
        "# calculate F\n",
        "F = anova_table['MS']['Between Groups'] / anova_table['MS']['Within Groups']\n",
        "anova_table['F']['Between Groups'] = F\n",
        "\n",
        "# p-value\n",
        "anova_table['P-value']['Between Groups'] = 1 - stats.f.cdf(F, anova_table['df']['Between Groups'], anova_table['df']['Within Groups'])\n",
        "\n",
        "# F critical\n",
        "alpha = 0.05\n",
        "# possible types \"right-tailed, left-tailed, two-tailed\"\n",
        "tail_hypothesis_type = \"two-tailed\"\n",
        "if tail_hypothesis_type == \"two-tailed\":\n",
        "    alpha /= 2\n",
        "anova_table['F crit']['Between Groups'] = stats.f.ppf(1-alpha, anova_table['df']['Between Groups'], anova_table['df']['Within Groups'])\n",
        "\n",
        "# Final ANOVA Table\n",
        "anova_table"
      ],
      "metadata": {
        "colab": {
          "base_uri": "https://localhost:8080/",
          "height": 174
        },
        "id": "s_WzNeg1TNA1",
        "outputId": "68616dd8-1bb7-4c8c-952b-c99278ac4b26"
      },
      "execution_count": 34,
      "outputs": [
        {
          "output_type": "execute_result",
          "data": {
            "text/plain": [
              "                                  SS     df           MS         F   P-value  \\\n",
              "Source of Variation                                                            \n",
              "Between Groups           5037.059096      3  1679.019699  1.625261  0.181191   \n",
              "Within Groups        10908261.654527  10559  1033.077153                       \n",
              "Total                10913298.713623  10562  1033.260624                       \n",
              "\n",
              "                       F crit  \n",
              "Source of Variation            \n",
              "Between Groups       3.117367  \n",
              "Within Groups                  \n",
              "Total                          "
            ],
            "text/html": [
              "\n",
              "  <div id=\"df-fb86c912-165d-4d4f-add1-ef8fd413726b\">\n",
              "    <div class=\"colab-df-container\">\n",
              "      <div>\n",
              "<style scoped>\n",
              "    .dataframe tbody tr th:only-of-type {\n",
              "        vertical-align: middle;\n",
              "    }\n",
              "\n",
              "    .dataframe tbody tr th {\n",
              "        vertical-align: top;\n",
              "    }\n",
              "\n",
              "    .dataframe thead th {\n",
              "        text-align: right;\n",
              "    }\n",
              "</style>\n",
              "<table border=\"1\" class=\"dataframe\">\n",
              "  <thead>\n",
              "    <tr style=\"text-align: right;\">\n",
              "      <th></th>\n",
              "      <th>SS</th>\n",
              "      <th>df</th>\n",
              "      <th>MS</th>\n",
              "      <th>F</th>\n",
              "      <th>P-value</th>\n",
              "      <th>F crit</th>\n",
              "    </tr>\n",
              "    <tr>\n",
              "      <th>Source of Variation</th>\n",
              "      <th></th>\n",
              "      <th></th>\n",
              "      <th></th>\n",
              "      <th></th>\n",
              "      <th></th>\n",
              "      <th></th>\n",
              "    </tr>\n",
              "  </thead>\n",
              "  <tbody>\n",
              "    <tr>\n",
              "      <th>Between Groups</th>\n",
              "      <td>5037.059096</td>\n",
              "      <td>3</td>\n",
              "      <td>1679.019699</td>\n",
              "      <td>1.625261</td>\n",
              "      <td>0.181191</td>\n",
              "      <td>3.117367</td>\n",
              "    </tr>\n",
              "    <tr>\n",
              "      <th>Within Groups</th>\n",
              "      <td>10908261.654527</td>\n",
              "      <td>10559</td>\n",
              "      <td>1033.077153</td>\n",
              "      <td></td>\n",
              "      <td></td>\n",
              "      <td></td>\n",
              "    </tr>\n",
              "    <tr>\n",
              "      <th>Total</th>\n",
              "      <td>10913298.713623</td>\n",
              "      <td>10562</td>\n",
              "      <td>1033.260624</td>\n",
              "      <td></td>\n",
              "      <td></td>\n",
              "      <td></td>\n",
              "    </tr>\n",
              "  </tbody>\n",
              "</table>\n",
              "</div>\n",
              "      <button class=\"colab-df-convert\" onclick=\"convertToInteractive('df-fb86c912-165d-4d4f-add1-ef8fd413726b')\"\n",
              "              title=\"Convert this dataframe to an interactive table.\"\n",
              "              style=\"display:none;\">\n",
              "        \n",
              "  <svg xmlns=\"http://www.w3.org/2000/svg\" height=\"24px\"viewBox=\"0 0 24 24\"\n",
              "       width=\"24px\">\n",
              "    <path d=\"M0 0h24v24H0V0z\" fill=\"none\"/>\n",
              "    <path d=\"M18.56 5.44l.94 2.06.94-2.06 2.06-.94-2.06-.94-.94-2.06-.94 2.06-2.06.94zm-11 1L8.5 8.5l.94-2.06 2.06-.94-2.06-.94L8.5 2.5l-.94 2.06-2.06.94zm10 10l.94 2.06.94-2.06 2.06-.94-2.06-.94-.94-2.06-.94 2.06-2.06.94z\"/><path d=\"M17.41 7.96l-1.37-1.37c-.4-.4-.92-.59-1.43-.59-.52 0-1.04.2-1.43.59L10.3 9.45l-7.72 7.72c-.78.78-.78 2.05 0 2.83L4 21.41c.39.39.9.59 1.41.59.51 0 1.02-.2 1.41-.59l7.78-7.78 2.81-2.81c.8-.78.8-2.07 0-2.86zM5.41 20L4 18.59l7.72-7.72 1.47 1.35L5.41 20z\"/>\n",
              "  </svg>\n",
              "      </button>\n",
              "      \n",
              "  <style>\n",
              "    .colab-df-container {\n",
              "      display:flex;\n",
              "      flex-wrap:wrap;\n",
              "      gap: 12px;\n",
              "    }\n",
              "\n",
              "    .colab-df-convert {\n",
              "      background-color: #E8F0FE;\n",
              "      border: none;\n",
              "      border-radius: 50%;\n",
              "      cursor: pointer;\n",
              "      display: none;\n",
              "      fill: #1967D2;\n",
              "      height: 32px;\n",
              "      padding: 0 0 0 0;\n",
              "      width: 32px;\n",
              "    }\n",
              "\n",
              "    .colab-df-convert:hover {\n",
              "      background-color: #E2EBFA;\n",
              "      box-shadow: 0px 1px 2px rgba(60, 64, 67, 0.3), 0px 1px 3px 1px rgba(60, 64, 67, 0.15);\n",
              "      fill: #174EA6;\n",
              "    }\n",
              "\n",
              "    [theme=dark] .colab-df-convert {\n",
              "      background-color: #3B4455;\n",
              "      fill: #D2E3FC;\n",
              "    }\n",
              "\n",
              "    [theme=dark] .colab-df-convert:hover {\n",
              "      background-color: #434B5C;\n",
              "      box-shadow: 0px 1px 3px 1px rgba(0, 0, 0, 0.15);\n",
              "      filter: drop-shadow(0px 1px 2px rgba(0, 0, 0, 0.3));\n",
              "      fill: #FFFFFF;\n",
              "    }\n",
              "  </style>\n",
              "\n",
              "      <script>\n",
              "        const buttonEl =\n",
              "          document.querySelector('#df-fb86c912-165d-4d4f-add1-ef8fd413726b button.colab-df-convert');\n",
              "        buttonEl.style.display =\n",
              "          google.colab.kernel.accessAllowed ? 'block' : 'none';\n",
              "\n",
              "        async function convertToInteractive(key) {\n",
              "          const element = document.querySelector('#df-fb86c912-165d-4d4f-add1-ef8fd413726b');\n",
              "          const dataTable =\n",
              "            await google.colab.kernel.invokeFunction('convertToInteractive',\n",
              "                                                     [key], {});\n",
              "          if (!dataTable) return;\n",
              "\n",
              "          const docLinkHtml = 'Like what you see? Visit the ' +\n",
              "            '<a target=\"_blank\" href=https://colab.research.google.com/notebooks/data_table.ipynb>data table notebook</a>'\n",
              "            + ' to learn more about interactive tables.';\n",
              "          element.innerHTML = '';\n",
              "          dataTable['output_type'] = 'display_data';\n",
              "          await google.colab.output.renderOutput(dataTable, element);\n",
              "          const docLink = document.createElement('div');\n",
              "          docLink.innerHTML = docLinkHtml;\n",
              "          element.appendChild(docLink);\n",
              "        }\n",
              "      </script>\n",
              "    </div>\n",
              "  </div>\n",
              "  "
            ]
          },
          "metadata": {},
          "execution_count": 34
        }
      ]
    },
    {
      "cell_type": "code",
      "source": [
        "print(\"Approach 1: The p-value approach to hypothesis testing in the decision rule\")\n",
        "conclusion = \"Failed to reject the null hypothesis.\"\n",
        "if anova_table['P-value']['Between Groups'] <= alpha:\n",
        "    conclusion = \"Null Hypothesis is rejected.\"\n",
        "print(\"F-score is:\", anova_table['F']['Between Groups'], \" and p value is:\", anova_table['P-value']['Between Groups'])\n",
        "print(conclusion)\n",
        "\n",
        "# The critical value approach\n",
        "print(\"\\n--------------------------------------------------------------------------------------\")\n",
        "print(\"Approach 2: The critical value approach to hypothesis testing in the decision rule\")\n",
        "conclusion = \"Failed to reject the null hypothesis.\"\n",
        "if anova_table['F']['Between Groups'] > anova_table['F crit']['Between Groups']:\n",
        "    conclusion = \"Null Hypothesis is rejected.\"\n",
        "print(\"F-score is:\", anova_table['F']['Between Groups'], \" and critical value is:\", anova_table['F crit']['Between Groups'])\n",
        "print(conclusion)"
      ],
      "metadata": {
        "colab": {
          "base_uri": "https://localhost:8080/"
        },
        "id": "Y6RicZfXUInw",
        "outputId": "5d125289-113a-4dc1-8351-f7d1e2eab453"
      },
      "execution_count": 35,
      "outputs": [
        {
          "output_type": "stream",
          "name": "stdout",
          "text": [
            "Approach 1: The p-value approach to hypothesis testing in the decision rule\n",
            "F-score is: 1.6252607023266838  and p value is: 0.18119110356953783\n",
            "Failed to reject the null hypothesis.\n",
            "\n",
            "--------------------------------------------------------------------------------------\n",
            "Approach 2: The critical value approach to hypothesis testing in the decision rule\n",
            "F-score is: 1.6252607023266838  and critical value is: 3.117366710630386\n",
            "Failed to reject the null hypothesis.\n"
          ]
        }
      ]
    },
    {
      "cell_type": "code",
      "source": [
        "rvr_time = rvrm['minutes'].describe()\n",
        "rvl_time = rvlm['minutes'].describe()\n",
        "lvr_time = lvrm['minutes'].describe()\n",
        "lvl_time = lvlm['minutes'].describe()\n",
        "rvr_time, rvl_time, lvr_time, lvl_time"
      ],
      "metadata": {
        "colab": {
          "base_uri": "https://localhost:8080/"
        },
        "id": "RaSlE9EmHJ4S",
        "outputId": "f286b4f6-e1be-4c27-fa6d-53e7c7910443"
      },
      "execution_count": 36,
      "outputs": [
        {
          "output_type": "execute_result",
          "data": {
            "text/plain": [
              "(count    9017.000000\n",
              " mean       99.301320\n",
              " std        32.386047\n",
              " min         6.000000\n",
              " 25%        75.000000\n",
              " 50%        93.000000\n",
              " 75%       121.000000\n",
              " max       262.000000\n",
              " Name: minutes, dtype: float64,\n",
              " count    948.000000\n",
              " mean     100.418776\n",
              " std       32.421243\n",
              " min       19.000000\n",
              " 25%       75.000000\n",
              " 50%       93.000000\n",
              " 75%      123.000000\n",
              " max      235.000000\n",
              " Name: minutes, dtype: float64,\n",
              " count    852.000000\n",
              " mean      97.312207\n",
              " std       31.524541\n",
              " min       29.000000\n",
              " 25%       73.000000\n",
              " 50%       89.000000\n",
              " 75%      118.000000\n",
              " max      232.000000\n",
              " Name: minutes, dtype: float64,\n",
              " count     77.000000\n",
              " mean     103.337662\n",
              " std       30.481923\n",
              " min       57.000000\n",
              " 25%       79.000000\n",
              " 50%       93.000000\n",
              " 75%      126.000000\n",
              " max      187.000000\n",
              " Name: minutes, dtype: float64)"
            ]
          },
          "metadata": {},
          "execution_count": 36
        }
      ]
    },
    {
      "cell_type": "code",
      "source": [
        "rvr['minutes'].max()"
      ],
      "metadata": {
        "colab": {
          "base_uri": "https://localhost:8080/"
        },
        "id": "ipHjzN7FbNXD",
        "outputId": "feef94dc-1157-4056-fa32-128375722032"
      },
      "execution_count": 37,
      "outputs": [
        {
          "output_type": "execute_result",
          "data": {
            "text/plain": [
              "262.0"
            ]
          },
          "metadata": {},
          "execution_count": 37
        }
      ]
    },
    {
      "cell_type": "code",
      "source": [
        "#  Dataset:\n",
        "a = pd.DataFrame({ 'Handed Matchup' : np.repeat('Right Def. Right',9017), 'Time(min)': rvrm['minutes'] })\n",
        "b = pd.DataFrame({ 'Handed Matchup' : np.repeat('Right Def. Left',948), 'Time(min)': rvlm['minutes'] })\n",
        "c = pd.DataFrame({ 'Handed Matchup' : np.repeat('Left Def. Right',852), 'Time(min)': lvrm['minutes'] })\n",
        "d = pd.DataFrame({ 'Handed Matchup' : np.repeat('Left Def. Left',77), 'Time(min)': lvlm['minutes'] })\n",
        "df=a.append(b).append(c).append(d)\n",
        "\n",
        "ax = sns.boxplot(x='Handed Matchup', y='Time(min)', data=df)\n",
        "# # add stripplot\n",
        "# ax = sns.stripplot(x='Handed Matchup', y='Time(min)', data=df, color=\"orange\", jitter=0.2, size=2)\n",
        "\n",
        "# plot violin chart\n",
        "# sns.violinplot( x='Handed Matchup', y='Time(min)', data=df)\n",
        "\n",
        "# add title\n",
        "plt.title(\"Match Length by Hand WTA\\n\" + \"2018 - 2022\", bbox={'facecolor':'0.8', 'pad':3})\n",
        "\n",
        "# show the graph\n",
        "plt.show()"
      ],
      "metadata": {
        "colab": {
          "base_uri": "https://localhost:8080/",
          "height": 617
        },
        "id": "0W9Wrx3Wfruc",
        "outputId": "69b6282e-e179-4ab5-d452-5862c78ee662"
      },
      "execution_count": 38,
      "outputs": [
        {
          "output_type": "stream",
          "name": "stderr",
          "text": [
            "<ipython-input-38-e1ed738ec291>:6: FutureWarning: The frame.append method is deprecated and will be removed from pandas in a future version. Use pandas.concat instead.\n",
            "  df=a.append(b).append(c).append(d)\n",
            "<ipython-input-38-e1ed738ec291>:6: FutureWarning: The frame.append method is deprecated and will be removed from pandas in a future version. Use pandas.concat instead.\n",
            "  df=a.append(b).append(c).append(d)\n",
            "<ipython-input-38-e1ed738ec291>:6: FutureWarning: The frame.append method is deprecated and will be removed from pandas in a future version. Use pandas.concat instead.\n",
            "  df=a.append(b).append(c).append(d)\n"
          ]
        },
        {
          "output_type": "display_data",
          "data": {
            "text/plain": [
              "<Figure size 640x480 with 1 Axes>"
            ],
            "image/png": "[encoded data removed]"
          },
          "metadata": {}
        }
      ]
    },
    {
      "cell_type": "code",
      "source": [
        "rvr.columns"
      ],
      "metadata": {
        "colab": {
          "base_uri": "https://localhost:8080/"
        },
        "id": "C6vnMMBcPhKJ",
        "outputId": "8eac8269-3383-4014-fbf3-7c037d4043d6"
      },
      "execution_count": 39,
      "outputs": [
        {
          "output_type": "execute_result",
          "data": {
            "text/plain": [
              "Index(['year', 'tourney_id', 'tourney_name', 'surface', 'draw_size',\n",
              "       'tourney_level', 'tourney_date', 'match_num', 'winner_id',\n",
              "       'winner_seed', 'winner_entry', 'winner_name', 'winner_hand',\n",
              "       'winner_ht', 'winner_ioc', 'winner_age', 'loser_id', 'loser_seed',\n",
              "       'loser_entry', 'loser_name', 'loser_hand', 'loser_ht', 'loser_ioc',\n",
              "       'loser_age', 'score', 'best_of', 'round', 'minutes', 'w_ace', 'w_df',\n",
              "       'w_svpt', 'w_1stIn', 'w_1stWon', 'w_2ndWon', 'w_SvGms', 'w_bpSaved',\n",
              "       'w_bpFaced', 'l_ace', 'l_df', 'l_svpt', 'l_1stIn', 'l_1stWon',\n",
              "       'l_2ndWon', 'l_SvGms', 'l_bpSaved', 'l_bpFaced', 'winner_rank',\n",
              "       'winner_rank_points', 'loser_rank', 'loser_rank_points'],\n",
              "      dtype='object')"
            ]
          },
          "metadata": {},
          "execution_count": 39
        }
      ]
    },
    {
      "cell_type": "code",
      "source": [
        "#@title Dropping all but score\n",
        "rvrb = rvr.drop(['year', 'tourney_id','tourney_name','surface', 'draw_size', 'tourney_level',\n",
        "       'tourney_date', 'match_num', 'winner_id','winner_seed', 'winner_name',\n",
        "       'winner_hand', 'winner_age', 'loser_seed', 'loser_name', 'loser_hand',\n",
        "       'loser_age','best_of', 'round', 'minutes', 'w_ace', 'w_df',\n",
        "       'w_svpt', 'w_1stIn', 'w_1stWon', 'w_2ndWon', 'w_SvGms', 'w_bpSaved',\n",
        "       'w_bpFaced', 'l_ace', 'l_df', 'l_svpt', 'l_1stIn', 'l_1stWon',\n",
        "       'l_2ndWon', 'l_SvGms', 'l_bpSaved', 'l_bpFaced', 'winner_rank',\n",
        "       'loser_rank','winner_entry', 'winner_ht', 'winner_ioc', 'loser_id', 'loser_entry', 'loser_ht', 'loser_ioc', 'winner_rank_points', 'loser_rank_points'], axis = 1)\n",
        "\n",
        "rvlb = rvl.drop(['year', 'tourney_id','tourney_name','surface', 'draw_size', 'tourney_level',\n",
        "       'tourney_date', 'match_num', 'winner_id','winner_seed', 'winner_name',\n",
        "       'winner_hand', 'winner_age', 'loser_seed', 'loser_name', 'loser_hand',\n",
        "       'loser_age','best_of', 'round', 'minutes', 'w_ace', 'w_df',\n",
        "       'w_svpt', 'w_1stIn', 'w_1stWon', 'w_2ndWon', 'w_SvGms', 'w_bpSaved',\n",
        "       'w_bpFaced', 'l_ace', 'l_df', 'l_svpt', 'l_1stIn', 'l_1stWon',\n",
        "       'l_2ndWon', 'l_SvGms', 'l_bpSaved', 'l_bpFaced', 'winner_rank',\n",
        "       'loser_rank','winner_entry', 'winner_ht', 'winner_ioc', 'loser_id', 'loser_entry', 'loser_ht', 'loser_ioc', 'winner_rank_points', 'loser_rank_points'], axis = 1)\n",
        "\n",
        "lvrb = lvr.drop(['year', 'tourney_id','tourney_name','surface', 'draw_size', 'tourney_level',\n",
        "       'tourney_date', 'match_num', 'winner_id','winner_seed', 'winner_name',\n",
        "       'winner_hand', 'winner_age', 'loser_seed', 'loser_name', 'loser_hand',\n",
        "       'loser_age','best_of', 'round', 'minutes', 'w_ace', 'w_df',\n",
        "       'w_svpt', 'w_1stIn', 'w_1stWon', 'w_2ndWon', 'w_SvGms', 'w_bpSaved',\n",
        "       'w_bpFaced', 'l_ace', 'l_df', 'l_svpt', 'l_1stIn', 'l_1stWon',\n",
        "       'l_2ndWon', 'l_SvGms', 'l_bpSaved', 'l_bpFaced', 'winner_rank',\n",
        "       'loser_rank','winner_entry', 'winner_ht', 'winner_ioc', 'loser_id', 'loser_entry', 'loser_ht', 'loser_ioc', 'winner_rank_points', 'loser_rank_points'], axis = 1)\n",
        "\n",
        "lvlb = lvl.drop(['year', 'tourney_id','tourney_name','surface', 'draw_size', 'tourney_level',\n",
        "       'tourney_date', 'match_num', 'winner_id','winner_seed', 'winner_name',\n",
        "       'winner_hand', 'winner_age', 'loser_seed', 'loser_name', 'loser_hand',\n",
        "       'loser_age','best_of', 'round', 'minutes', 'w_ace', 'w_df',\n",
        "       'w_svpt', 'w_1stIn', 'w_1stWon', 'w_2ndWon', 'w_SvGms', 'w_bpSaved',\n",
        "       'w_bpFaced', 'l_ace', 'l_df', 'l_svpt', 'l_1stIn', 'l_1stWon',\n",
        "       'l_2ndWon', 'l_SvGms', 'l_bpSaved', 'l_bpFaced', 'winner_rank',\n",
        "       'loser_rank', 'winner_entry', 'winner_ht', 'winner_ioc', 'loser_id', 'loser_entry', 'loser_ht', 'loser_ioc', 'winner_rank_points', 'loser_rank_points'], axis = 1)"
      ],
      "metadata": {
        "id": "bo5GBXGW_Jza"
      },
      "execution_count": 40,
      "outputs": []
    },
    {
      "cell_type": "code",
      "source": [
        "lvlb"
      ],
      "metadata": {
        "colab": {
          "base_uri": "https://localhost:8080/",
          "height": 423
        },
        "id": "2YyDbBygQnED",
        "outputId": "be1be7e4-0a02-4149-a9a8-cf602753d11a"
      },
      "execution_count": 41,
      "outputs": [
        {
          "output_type": "execute_result",
          "data": {
            "text/plain": [
              "                   score\n",
              "142       3-6 7-6(4) 7-5\n",
              "372          4-6 6-3 6-2\n",
              "459              6-1 6-4\n",
              "837              6-4 6-4\n",
              "854              6-3 7-5\n",
              "...                  ...\n",
              "11031  6-7(3) 7-6(8) 6-2\n",
              "11074        4-6 6-1 6-0\n",
              "11127        3-6 6-4 6-2\n",
              "11724            6-2 6-3\n",
              "11948            6-2 6-2\n",
              "\n",
              "[84 rows x 1 columns]"
            ],
            "text/html": [
              "\n",
              "  <div id=\"df-5b6eca1d-bd67-4a08-87d7-8604f433bd36\">\n",
              "    <div class=\"colab-df-container\">\n",
              "      <div>\n",
              "<style scoped>\n",
              "    .dataframe tbody tr th:only-of-type {\n",
              "        vertical-align: middle;\n",
              "    }\n",
              "\n",
              "    .dataframe tbody tr th {\n",
              "        vertical-align: top;\n",
              "    }\n",
              "\n",
              "    .dataframe thead th {\n",
              "        text-align: right;\n",
              "    }\n",
              "</style>\n",
              "<table border=\"1\" class=\"dataframe\">\n",
              "  <thead>\n",
              "    <tr style=\"text-align: right;\">\n",
              "      <th></th>\n",
              "      <th>score</th>\n",
              "    </tr>\n",
              "  </thead>\n",
              "  <tbody>\n",
              "    <tr>\n",
              "      <th>142</th>\n",
              "      <td>3-6 7-6(4) 7-5</td>\n",
              "    </tr>\n",
              "    <tr>\n",
              "      <th>372</th>\n",
              "      <td>4-6 6-3 6-2</td>\n",
              "    </tr>\n",
              "    <tr>\n",
              "      <th>459</th>\n",
              "      <td>6-1 6-4</td>\n",
              "    </tr>\n",
              "    <tr>\n",
              "      <th>837</th>\n",
              "      <td>6-4 6-4</td>\n",
              "    </tr>\n",
              "    <tr>\n",
              "      <th>854</th>\n",
              "      <td>6-3 7-5</td>\n",
              "    </tr>\n",
              "    <tr>\n",
              "      <th>...</th>\n",
              "      <td>...</td>\n",
              "    </tr>\n",
              "    <tr>\n",
              "      <th>11031</th>\n",
              "      <td>6-7(3) 7-6(8) 6-2</td>\n",
              "    </tr>\n",
              "    <tr>\n",
              "      <th>11074</th>\n",
              "      <td>4-6 6-1 6-0</td>\n",
              "    </tr>\n",
              "    <tr>\n",
              "      <th>11127</th>\n",
              "      <td>3-6 6-4 6-2</td>\n",
              "    </tr>\n",
              "    <tr>\n",
              "      <th>11724</th>\n",
              "      <td>6-2 6-3</td>\n",
              "    </tr>\n",
              "    <tr>\n",
              "      <th>11948</th>\n",
              "      <td>6-2 6-2</td>\n",
              "    </tr>\n",
              "  </tbody>\n",
              "</table>\n",
              "<p>84 rows × 1 columns</p>\n",
              "</div>\n",
              "      <button class=\"colab-df-convert\" onclick=\"convertToInteractive('df-5b6eca1d-bd67-4a08-87d7-8604f433bd36')\"\n",
              "              title=\"Convert this dataframe to an interactive table.\"\n",
              "              style=\"display:none;\">\n",
              "        \n",
              "  <svg xmlns=\"http://www.w3.org/2000/svg\" height=\"24px\"viewBox=\"0 0 24 24\"\n",
              "       width=\"24px\">\n",
              "    <path d=\"M0 0h24v24H0V0z\" fill=\"none\"/>\n",
              "    <path d=\"M18.56 5.44l.94 2.06.94-2.06 2.06-.94-2.06-.94-.94-2.06-.94 2.06-2.06.94zm-11 1L8.5 8.5l.94-2.06 2.06-.94-2.06-.94L8.5 2.5l-.94 2.06-2.06.94zm10 10l.94 2.06.94-2.06 2.06-.94-2.06-.94-.94-2.06-.94 2.06-2.06.94z\"/><path d=\"M17.41 7.96l-1.37-1.37c-.4-.4-.92-.59-1.43-.59-.52 0-1.04.2-1.43.59L10.3 9.45l-7.72 7.72c-.78.78-.78 2.05 0 2.83L4 21.41c.39.39.9.59 1.41.59.51 0 1.02-.2 1.41-.59l7.78-7.78 2.81-2.81c.8-.78.8-2.07 0-2.86zM5.41 20L4 18.59l7.72-7.72 1.47 1.35L5.41 20z\"/>\n",
              "  </svg>\n",
              "      </button>\n",
              "      \n",
              "  <style>\n",
              "    .colab-df-container {\n",
              "      display:flex;\n",
              "      flex-wrap:wrap;\n",
              "      gap: 12px;\n",
              "    }\n",
              "\n",
              "    .colab-df-convert {\n",
              "      background-color: #E8F0FE;\n",
              "      border: none;\n",
              "      border-radius: 50%;\n",
              "      cursor: pointer;\n",
              "      display: none;\n",
              "      fill: #1967D2;\n",
              "      height: 32px;\n",
              "      padding: 0 0 0 0;\n",
              "      width: 32px;\n",
              "    }\n",
              "\n",
              "    .colab-df-convert:hover {\n",
              "      background-color: #E2EBFA;\n",
              "      box-shadow: 0px 1px 2px rgba(60, 64, 67, 0.3), 0px 1px 3px 1px rgba(60, 64, 67, 0.15);\n",
              "      fill: #174EA6;\n",
              "    }\n",
              "\n",
              "    [theme=dark] .colab-df-convert {\n",
              "      background-color: #3B4455;\n",
              "      fill: #D2E3FC;\n",
              "    }\n",
              "\n",
              "    [theme=dark] .colab-df-convert:hover {\n",
              "      background-color: #434B5C;\n",
              "      box-shadow: 0px 1px 3px 1px rgba(0, 0, 0, 0.15);\n",
              "      filter: drop-shadow(0px 1px 2px rgba(0, 0, 0, 0.3));\n",
              "      fill: #FFFFFF;\n",
              "    }\n",
              "  </style>\n",
              "\n",
              "      <script>\n",
              "        const buttonEl =\n",
              "          document.querySelector('#df-5b6eca1d-bd67-4a08-87d7-8604f433bd36 button.colab-df-convert');\n",
              "        buttonEl.style.display =\n",
              "          google.colab.kernel.accessAllowed ? 'block' : 'none';\n",
              "\n",
              "        async function convertToInteractive(key) {\n",
              "          const element = document.querySelector('#df-5b6eca1d-bd67-4a08-87d7-8604f433bd36');\n",
              "          const dataTable =\n",
              "            await google.colab.kernel.invokeFunction('convertToInteractive',\n",
              "                                                     [key], {});\n",
              "          if (!dataTable) return;\n",
              "\n",
              "          const docLinkHtml = 'Like what you see? Visit the ' +\n",
              "            '<a target=\"_blank\" href=https://colab.research.google.com/notebooks/data_table.ipynb>data table notebook</a>'\n",
              "            + ' to learn more about interactive tables.';\n",
              "          element.innerHTML = '';\n",
              "          dataTable['output_type'] = 'display_data';\n",
              "          await google.colab.output.renderOutput(dataTable, element);\n",
              "          const docLink = document.createElement('div');\n",
              "          docLink.innerHTML = docLinkHtml;\n",
              "          element.appendChild(docLink);\n",
              "        }\n",
              "      </script>\n",
              "    </div>\n",
              "  </div>\n",
              "  "
            ]
          },
          "metadata": {},
          "execution_count": 41
        }
      ]
    },
    {
      "cell_type": "code",
      "source": [
        "from seaborn.matrix import relative_luminance\n",
        "# rvr3b, rvr5b, rvl3b, rvl5b, lvr3b, lvr5b, lvl3b, lvl5b\n",
        "rvrb['num_games'] = 1+ rvrb['score'].str.count(' ')\n",
        "\n",
        "rvlb['num_games'] = 1+ rvlb['score'].str.count(' ')\n",
        "\n",
        "lvrb['num_games'] = 1+ lvrb['score'].str.count(' ')\n",
        "\n",
        "lvlb['num_games'] = 1+ lvlb['score'].str.count(' ')\n",
        "\n",
        "print('rvr3\\n', rvrb['num_games'].value_counts(),\n",
        "'rvl3\\n', rvlb['num_games'].value_counts(),\n",
        "'lvr3\\n', lvrb['num_games'].value_counts(),\n",
        "'lvl3\\n', lvlb['num_games'].value_counts(),)\n",
        "\n",
        "\n",
        "# ['num_games'] == 1\n",
        "# ['num_games'] == 2\n",
        "# ['num_games'] == 3\n",
        "# ['num_games'] == 4\n",
        "# ['num_games'] == 5"
      ],
      "metadata": {
        "colab": {
          "base_uri": "https://localhost:8080/"
        },
        "id": "EbuuZEFBPZ1e",
        "outputId": "303df659-73aa-4b69-b7f6-93911207b331"
      },
      "execution_count": 42,
      "outputs": [
        {
          "output_type": "stream",
          "name": "stdout",
          "text": [
            "rvr3\n",
            " 2    5847\n",
            "3    3117\n",
            "1      56\n",
            "4      55\n",
            "Name: num_games, dtype: int64 rvl3\n",
            " 2    621\n",
            "3    353\n",
            "1      9\n",
            "4      5\n",
            "Name: num_games, dtype: int64 lvr3\n",
            " 2    598\n",
            "3    281\n",
            "1      5\n",
            "4      3\n",
            "Name: num_games, dtype: int64 lvl3\n",
            " 2    52\n",
            "3    32\n",
            "Name: num_games, dtype: int64\n"
          ]
        }
      ]
    },
    {
      "cell_type": "markdown",
      "source": [
        "Max time for all cats but lvl over 200\n"
      ],
      "metadata": {
        "id": "jtcwb7QY6hSY"
      }
    },
    {
      "cell_type": "code",
      "source": [
        "lvr['surface'].unique()"
      ],
      "metadata": {
        "colab": {
          "base_uri": "https://localhost:8080/"
        },
        "id": "kP3Pb-bYNNNp",
        "outputId": "b126f486-ff7e-462d-fd6c-114a99b36942"
      },
      "execution_count": 43,
      "outputs": [
        {
          "output_type": "execute_result",
          "data": {
            "text/plain": [
              "array(['Hard', 'Clay', 'Grass'], dtype=object)"
            ]
          },
          "metadata": {},
          "execution_count": 43
        }
      ]
    },
    {
      "cell_type": "code",
      "source": [
        "condition_h_rvr = rvr['surface'] == 'Hard'\n",
        "condition_c_rvr = rvr['surface'] == 'Clay'\n",
        "condition_g_rvr = rvr['surface'] == 'Grass'\n",
        "\n",
        "rvr_h = rvr[condition_h_rvr]\n",
        "rvr_c = rvr[condition_c_rvr]\n",
        "rvr_g = rvr[condition_g_rvr]\n",
        "\n",
        "\n",
        "condition_h_rvl = rvl['surface'] == 'Hard'\n",
        "condition_c_rvl = rvl['surface'] == 'Clay'\n",
        "condition_g_rvl = rvl['surface'] == 'Grass'\n",
        "\n",
        "rvl_h = rvl[condition_h_rvl]\n",
        "rvl_c = rvl[condition_c_rvl]\n",
        "rvl_g = rvl[condition_g_rvl]\n",
        "\n",
        "\n",
        "condition_h_lvr = lvr['surface'] == 'Hard'\n",
        "condition_c_lvr = lvr['surface'] == 'Clay'\n",
        "condition_g_lvr = lvr['surface'] == 'Grass'\n",
        "\n",
        "lvr_h = lvr[condition_h_lvr]\n",
        "lvr_c = lvr[condition_c_lvr]\n",
        "lvr_g = lvr[condition_g_lvr]\n",
        "\n",
        "\n",
        "condition_h_lvl = lvl['surface'] == 'Hard'\n",
        "condition_c_lvl = lvl['surface'] == 'Clay'\n",
        "condition_g_lvl = lvl['surface'] == 'Grass'\n",
        "\n",
        "lvl_h = lvl[condition_h_lvl]\n",
        "lvl_c = lvl[condition_c_lvl]\n",
        "lvl_g = lvl[condition_g_lvl]\n",
        "\n",
        "num_rvr_h = len(rvr_h)\n",
        "num_rvr_c = len(rvr_c)\n",
        "num_rvr_g = len(rvr_g)\n",
        "\n",
        "num_rvl_h = len(rvl_h)\n",
        "num_rvl_c = len(rvl_c)\n",
        "num_rvl_g = len(rvl_g)\n",
        "\n",
        "num_lvr_h = len(lvr_h)\n",
        "num_lvr_c = len(lvr_c)\n",
        "num_lvr_g = len(lvr_g)\n",
        "\n",
        "num_lvl_h = len(lvl_h)\n",
        "num_lvl_c = len(lvl_c)\n",
        "num_lvl_g = len(lvl_g)"
      ],
      "metadata": {
        "id": "W83TfJz0LRot"
      },
      "execution_count": 44,
      "outputs": []
    },
    {
      "cell_type": "code",
      "source": [
        "print(\n",
        "  'rvr', len(rvr_h),len(rvr_c),len(rvr_g),'\\n',\n",
        "  'rvl', len(rvl_h),len(rvl_c),len(rvl_g),'\\n',\n",
        "  'lvr', len(lvr_h),len(lvr_c),len(lvr_g),'\\n',\n",
        "  'lvl', len(lvl_h),len(lvl_c),len(lvl_g))"
      ],
      "metadata": {
        "colab": {
          "base_uri": "https://localhost:8080/"
        },
        "id": "AIuWeZcm8emS",
        "outputId": "79cbbb54-2c21-4473-de7c-fcdd76e47e1b"
      },
      "execution_count": 45,
      "outputs": [
        {
          "output_type": "stream",
          "name": "stdout",
          "text": [
            "rvr 5729 2324 1022 \n",
            " rvl 614 287 87 \n",
            " lvr 538 259 90 \n",
            " lvl 44 33 7\n"
          ]
        }
      ]
    },
    {
      "cell_type": "code",
      "source": [
        "height = [num_rvl_h, num_lvr_h, num_rvl_c, num_lvr_c, num_rvl_g, num_lvr_g]\n",
        "bars = ['Right Win Hardcourt', 'Left Win Hardcourt',\n",
        "        'Right Win Claycourt', 'Left Win Claycourt',\n",
        "        'Right Win Grasscourt', 'Left Win Grasscourt']\n",
        "x_pos = .2, .7, 1.7, 2.2, 3.2, 3.7\n",
        "\n",
        "plt.bar(x_pos, height, width = .25, color = [right_w_c, left_w_c, right_w_c, left_w_c, right_w_c, left_w_c])\n",
        "\n",
        "plt.title(\"Right Handed vs. Left Handed Player Wins by Court Type WTA\\n\" + \"2018 - 2022\", bbox={'facecolor':'0.8', 'pad':3})\n",
        "\n",
        "plt.annotate('614', xy = (.1,614), xytext = (.095,614))\n",
        "plt.annotate('538', xy = (.63,538), xytext = (.6,538))\n",
        "plt.annotate('287', xy = (1.62,287), xytext = (1.595,287))\n",
        "plt.annotate('259', xy = (2.12,259), xytext = (2.09,259))\n",
        "plt.annotate('87', xy = (3.12,87), xytext = (3.14,87))\n",
        "plt.annotate('90', xy = (3.62,90), xytext = (3.61,90))\n",
        "\n",
        "plt.xticks(x_pos, bars, rotation = -20)"
      ],
      "metadata": {
        "colab": {
          "base_uri": "https://localhost:8080/",
          "height": 730
        },
        "id": "X-RrSvVjBREJ",
        "outputId": "c9a192d5-f198-4c44-d6e8-fb2d29e63ab9"
      },
      "execution_count": 46,
      "outputs": [
        {
          "output_type": "execute_result",
          "data": {
            "text/plain": [
              "([<matplotlib.axis.XTick at 0x7f3d469785e0>,\n",
              "  <matplotlib.axis.XTick at 0x7f3d469785b0>,\n",
              "  <matplotlib.axis.XTick at 0x7f3d490dfa00>,\n",
              "  <matplotlib.axis.XTick at 0x7f3d469a9cc0>,\n",
              "  <matplotlib.axis.XTick at 0x7f3d469aa770>,\n",
              "  <matplotlib.axis.XTick at 0x7f3d469ab220>],\n",
              " [Text(0.2, 0, 'Right Win Hardcourt'),\n",
              "  Text(0.7, 0, 'Left Win Hardcourt'),\n",
              "  Text(1.7, 0, 'Right Win Claycourt'),\n",
              "  Text(2.2, 0, 'Left Win Claycourt'),\n",
              "  Text(3.2, 0, 'Right Win Grasscourt'),\n",
              "  Text(3.7, 0, 'Left Win Grasscourt')])"
            ]
          },
          "metadata": {},
          "execution_count": 46
        },
        {
          "output_type": "display_data",
          "data": {
            "text/plain": [
              "<Figure size 640x480 with 1 Axes>"
            ],
            "image/png": "[encoded data removed]"
          },
          "metadata": {}
        }
      ]
    }
  ]
}